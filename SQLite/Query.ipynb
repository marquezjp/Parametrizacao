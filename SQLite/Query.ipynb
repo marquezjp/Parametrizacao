{
  "nbformat": 4,
  "nbformat_minor": 0,
  "metadata": {
    "colab": {
      "name": "Query.ipynb",
      "provenance": [],
      "collapsed_sections": [
        "rObVQzFtKgJe",
        "JjDmhIt3VFB9",
        "jzOvgGekVPA2",
        "oiEBdLo-VShP",
        "WjyQH9Vqjn8b",
        "yhxbY5zgU4nq",
        "ofiK7XDXVXM4",
        "0BL6oik5oS6B",
        "MRqVykRGWcyd",
        "FEGXX8lomM0F",
        "EPq_9XlyKoPy"
      ],
      "authorship_tag": "ABX9TyN1vX5a3oEtI2nUp/gtB+9P",
      "include_colab_link": true
    },
    "kernelspec": {
      "name": "python3",
      "display_name": "Python 3"
    }
  },
  "cells": [
    {
      "cell_type": "markdown",
      "metadata": {
        "id": "view-in-github",
        "colab_type": "text"
      },
      "source": [
        "<a href=\"https://colab.research.google.com/github/marquezjp/SQLToPandas/blob/main/SQLite/Query.ipynb\" target=\"_parent\"><img src=\"https://colab.research.google.com/assets/colab-badge.svg\" alt=\"Open In Colab\"/></a>"
      ]
    },
    {
      "cell_type": "markdown",
      "metadata": {
        "id": "4-X1eyUziT8J"
      },
      "source": [
        "# Manipular SQLite com Pandas"
      ]
    },
    {
      "cell_type": "markdown",
      "metadata": {
        "id": "rObVQzFtKgJe"
      },
      "source": [
        "## Preparar Ambiente"
      ]
    },
    {
      "cell_type": "markdown",
      "metadata": {
        "id": "see_Laa3YhwP"
      },
      "source": [
        "Para instalar o XlsxWriter\r\n",
        "\r\n",
        "```\r\n",
        "!pip install -U XlsxWriter\r\n",
        "```"
      ]
    },
    {
      "cell_type": "code",
      "metadata": {
        "id": "zuHi7TO7iNsN"
      },
      "source": [
        "# Carrega a Biblioteca do Oracle, YAML e Pandas\n",
        "from datetime import date\n",
        "import csv\n",
        "import pandas as pd"
      ],
      "execution_count": null,
      "outputs": []
    },
    {
      "cell_type": "code",
      "metadata": {
        "id": "o_Tj1FxvYVaO"
      },
      "source": [
        "import xlsxwriter"
      ],
      "execution_count": null,
      "outputs": []
    },
    {
      "cell_type": "code",
      "metadata": {
        "id": "2ja1P2DSYaAH"
      },
      "source": [
        "import sqlite3\r\n",
        "from sqlalchemy.engine import create_engine"
      ],
      "execution_count": null,
      "outputs": []
    },
    {
      "cell_type": "code",
      "metadata": {
        "id": "yX1OeorAPGbv"
      },
      "source": [
        "today = date.today().strftime(\"%d/%m/%Y\")\r\n",
        "print(\"Hoje é\", today)"
      ],
      "execution_count": null,
      "outputs": []
    },
    {
      "cell_type": "code",
      "metadata": {
        "id": "L20ouHXMuXR7"
      },
      "source": [
        "!dir"
      ],
      "execution_count": null,
      "outputs": []
    },
    {
      "cell_type": "markdown",
      "metadata": {
        "id": "tLgGR2m2KXL-"
      },
      "source": [
        "## Conexão via SQL Alchemy"
      ]
    },
    {
      "cell_type": "code",
      "metadata": {
        "id": "SknI5dawdRnq"
      },
      "source": [
        "# Cria a Conexão do SQLite\n",
        "sqliteConfig = {\n",
        "    'dialect': 'sqlite',\n",
        "    'dbworkpath': 'SQLite',\n",
        "    'dbfilename': 'database',\n",
        "    'dbext': 'sqlite'\n",
        "}\n",
        "\n",
        "dialeto = sqliteConfig.get('dialect', 'sqlite')\n",
        "\n",
        "dbworkpath = sqliteConfig.get('dbworkpath', '')\n",
        "dbfilename = sqliteConfig.get('dbfilename', '')\n",
        "dbext = sqliteConfig.get('dbext', '')\n",
        "dburl = f'/{dbworkpath}/{dbfilename}.{dbext}' if dbfilename else ''\n",
        "\n",
        "conexaoSQLite = create_engine(f'{dialeto}://{dburl}', echo=False)\n",
        "conexaoSQLite"
      ],
      "execution_count": null,
      "outputs": []
    },
    {
      "cell_type": "markdown",
      "metadata": {
        "id": "3JLxyNO0daLn"
      },
      "source": [
        "**Principais comandos do SQLite**\r\n",
        "\r\n",
        "```\r\n",
        "SELECT name FROM sqlite_master WHERE type='table';'\r\n",
        "\r\n",
        "SELECT name FROM sqlite_master WHERE type ='table' AND name NOT LIKE 'sqlite_%';\r\n",
        "\r\n",
        "SELECT sql FROM sqlite_master WHERE type = 'table' AND name = 'table_name';\r\n",
        "\r\n",
        "PRAGMA table_info('table_name')\r\n",
        "\r\n",
        "CREATE INDEX idx_contacts_name ON contacts (first_name, last_name);\r\n",
        "\r\n",
        "CREATE [UNIQUE] INDEX index_name ON table_name ( column_name [, ...] );\r\n",
        "\r\n",
        "DROP INDEX [IF EXISTS] index_name;\r\n",
        "\r\n",
        "SELECT * FROM sqlite_master WHERE type = 'index';\r\n",
        "\r\n",
        "SELECT type, name, tbl_name, sql FROM sqlite_master WHERE type= 'index';\r\n",
        "\r\n",
        "PRAGMA index_list('table_name');\r\n",
        "\r\n",
        "PRAGMA index_info('index_name');\r\n",
        "\r\n",
        "CREATE TABLE table_name(\r\n",
        "  chng_id INTEGER PRIMARY KEY,\r\n",
        "  acct_no INTEGER REFERENCES account,\r\n",
        "  location INTEGER REFERENCES locations,\r\n",
        "  amt INTEGER,  -- in cents\r\n",
        "  authority TEXT,\r\n",
        "  comment TEXT\r\n",
        ");\r\n",
        "CREATE INDEX index_name ON table_name(acct_no, abs(amt));\r\n",
        "```"
      ]
    },
    {
      "cell_type": "code",
      "metadata": {
        "id": "xAiwmPMucQmC"
      },
      "source": [
        "%%timeit\r\n",
        "pd.read_sql_query(\"SELECT name FROM sqlite_master WHERE type='table'\", conexaoSQLite)"
      ],
      "execution_count": null,
      "outputs": []
    },
    {
      "cell_type": "code",
      "metadata": {
        "id": "2gF3q_w7Znbg"
      },
      "source": [
        "%%timeit\r\n",
        "with conexaoSQLite.connect() as con:\r\n",
        "    rs = con.execute(f'SELECT name FROM sqlite_master WHERE type='table';')\r\n",
        "    for row in rs:\r\n",
        "        print row"
      ],
      "execution_count": null,
      "outputs": []
    },
    {
      "cell_type": "code",
      "metadata": {
        "id": "OsdJGS4cZXUL"
      },
      "source": [
        "%%timeit\r\n",
        "con = sqlite3.connect(dburl)\r\n",
        "cursor = con.cursor()\r\n",
        "cursor.execute(\"SELECT name FROM sqlite_master WHERE type='table';\")\r\n",
        "print(cursor.fetchall())"
      ],
      "execution_count": null,
      "outputs": []
    },
    {
      "cell_type": "markdown",
      "metadata": {
        "id": "4648yevAKNUn"
      },
      "source": [
        "## Consulta SQL"
      ]
    },
    {
      "cell_type": "markdown",
      "metadata": {
        "id": "ofiK7XDXVXM4"
      },
      "source": [
        "## Executar a Consulta"
      ]
    },
    {
      "cell_type": "code",
      "metadata": {
        "id": "Dkx9Xnsi9cCN"
      },
      "source": [
        "%%timeit\r\n",
        "base = pd.read_sql_query(SQL, conexaoOracle)\r\n",
        "base.head()"
      ],
      "execution_count": null,
      "outputs": []
    },
    {
      "cell_type": "code",
      "metadata": {
        "id": "BsATrHWUmYL6"
      },
      "source": [
        "camposSelecionados = ['orgao', 'ano', 'mes', 'folha', 'calculo', 'matricula']\r\n",
        "#print(base[camposSelecionados].iloc[0].values)\r\n",
        "print(base[camposSelecionados].values[0])"
      ],
      "execution_count": null,
      "outputs": []
    },
    {
      "cell_type": "markdown",
      "metadata": {
        "id": "0BL6oik5oS6B"
      },
      "source": [
        "## Salva os Dados Selecionados no Arquivo CSV"
      ]
    },
    {
      "cell_type": "code",
      "metadata": {
        "id": "nD5hvI0-oUyN"
      },
      "source": [
        "%%timeit\n",
        "nomeArquivo = 'sigrh_schema'\n",
        "base.to_csv(f'{nomeArquivo}.csv', index=False, encoding='utf-8', sep=';', decimal=',', quoting=csv.QUOTE_NONNUMERIC)"
      ],
      "execution_count": null,
      "outputs": []
    },
    {
      "cell_type": "code",
      "metadata": {
        "id": "ghGHqMr1vcBz"
      },
      "source": [
        "%%timeit\r\n",
        "nomeArquivo = 'sigrh_schema'\r\n",
        "compression_opts = dict(method='zip', archive_name=f'{nomeArquivo}.csv')\r\n",
        "base.to_csv(f'{nomeArquivo}.zip', index=False, encoding='utf-8', sep=';', decimal=',', quoting=csv.QUOTE_NONNUMERIC, compression=compression_opts)"
      ],
      "execution_count": null,
      "outputs": []
    },
    {
      "cell_type": "markdown",
      "metadata": {
        "id": "MRqVykRGWcyd"
      },
      "source": [
        "## Salva os Dados Selecionados no Excel"
      ]
    },
    {
      "cell_type": "code",
      "metadata": {
        "id": "UEmwyCp4WfzO"
      },
      "source": [
        "%%timeit\r\n",
        "dataReferencia = date.today().strftime('%Y%m%d')\r\n",
        "nomePlanilha = 'SCHEMA'\r\n",
        "nomeArquivo = f'SIGRH-MCZ - {nomePlanilha} - {dataReferencia}.xlsx'\r\n",
        "\r\n",
        "planilha = pd.ExcelWriter(nomeArquivo, engine='xlsxwriter', datetime_format='dd/mm/yy', date_format='dd/mm/yy')\r\n",
        "base.to_excel(planilha, sheet_name=nomePlanilha, startrow=0, index=False)\r\n",
        "\r\n",
        "# Formata Tabela\r\n",
        "pagina = planilha.sheets[nomePlanilha]\r\n",
        "linhas, colunas = base.shape\r\n",
        "column_settings = [{'header': column} for column in base.columns.values.tolist()]\r\n",
        "tabelaOpcoes = {\r\n",
        "    'name': nomePlanilha,\r\n",
        "    'style': 'Table Style Medium 11',\r\n",
        "    'autofilter': False,\r\n",
        "    'columns': column_settings\r\n",
        "}\r\n",
        "pagina.add_table(0, 0, linhas, colunas - 1, tabelaOpcoes)\r\n",
        "\r\n",
        "# Formata Impressão\r\n",
        "pagina.hide_gridlines(2)\r\n",
        "pagina.freeze_panes(1, 0)\r\n",
        "pagina.print_area(0,0,linhas, colunas)\r\n",
        "pagina.repeat_rows(0,0)\r\n",
        "pagina.fit_to_pages(1,0)\r\n",
        "pagina.set_paper(9) # A4\r\n",
        "pagina.set_portrait() # set_landscape or set_portrait()\r\n",
        "#pagina.center_horizontally()\r\n",
        "#pagina.center_vertically()\r\n",
        "pagina.set_margins(left=0.7, right=0.7, top=1.14, bottom=0.75)\r\n",
        "\r\n",
        "# Formata Cabecalho e Rodape\r\n",
        "pagina.set_header('&R' + 'Data: &D')\r\n",
        "pagina.set_footer('&R' +  'Página: &P of &N')\r\n",
        "\r\n",
        "# Grava a Planilha\r\n",
        "planilha.save()"
      ],
      "execution_count": null,
      "outputs": []
    },
    {
      "cell_type": "code",
      "metadata": {
        "id": "OJhygfxaY-t0"
      },
      "source": [
        "pd.read_excel(nomeArquivo, sheet_name=nomePlanilha, engine='openpyxl').head()"
      ],
      "execution_count": null,
      "outputs": []
    },
    {
      "cell_type": "markdown",
      "metadata": {
        "id": "FEGXX8lomM0F"
      },
      "source": [
        "## Salva os Dados Selecionados no Google Sheet"
      ]
    },
    {
      "cell_type": "code",
      "metadata": {
        "id": "O2WbQS3imP-l"
      },
      "source": [
        "# Carregar as Bibliotecas e Prover a Autenticação no Google Drive\r\n",
        "from google.colab import auth\r\n",
        "auth.authenticate_user()\r\n",
        "\r\n",
        "import gspread\r\n",
        "from oauth2client.client import GoogleCredentials\r\n",
        "\r\n",
        "gc = gspread.authorize(GoogleCredentials.get_application_default())"
      ],
      "execution_count": null,
      "outputs": []
    },
    {
      "cell_type": "code",
      "metadata": {
        "id": "bQQ2BRHrmW2I"
      },
      "source": [
        "%%timeit\r\n",
        "dataReferencia = date.today().strftime('%Y%m%d')\r\n",
        "nomePlanilha = 'BASE'\r\n",
        "nomeArquivo = f'SIGRH-MCZ - {nomePlanilha} - {dataReferencia}'\r\n",
        "\r\n",
        "base = pd.read_sql(SQL, conexaoOracle)\r\n",
        "\r\n",
        "# Criar a Planilha\r\n",
        "planilha = gc.create(nomeArquivo)\r\n",
        "planilha = gc.open(nomeArquivo)\r\n",
        "pagina = municipios_arquivo.add_worksheet(nomePlanilha,rows=len(base),cols=len(base.columns))\r\n",
        "pagina.update([base.columns.values.tolist()] + base.values.tolist())"
      ],
      "execution_count": null,
      "outputs": []
    },
    {
      "cell_type": "markdown",
      "metadata": {
        "id": "EPq_9XlyKoPy"
      },
      "source": [
        "## Salva os Dados Selecionados no SQLite"
      ]
    },
    {
      "cell_type": "code",
      "metadata": {
        "id": "tkW6PZEwKtEa"
      },
      "source": [
        "%%timeit\r\n",
        "nomeTabela = 'schema'\r\n",
        "base.to_sql(name=nomeTabela, con=conexaoSQLite, if_exists=\"replace\", index=False)"
      ],
      "execution_count": null,
      "outputs": []
    },
    {
      "cell_type": "code",
      "metadata": {
        "id": "TS2mAc8IK6nO"
      },
      "source": [
        "%%timeit\r\n",
        "pd.read_sql(f'select * from {nomeTabela}', conexaoSQLite).head()"
      ],
      "execution_count": null,
      "outputs": []
    },
    {
      "cell_type": "markdown",
      "metadata": {
        "id": "oCarjGEqIQ_V"
      },
      "source": [
        "## Salva os Dados Selecionados em partes no SQLite"
      ]
    },
    {
      "cell_type": "code",
      "metadata": {
        "id": "NqSW_1y1_SoE"
      },
      "source": [
        "%%timeit\r\n",
        "camposSelecionados = ['orgao', 'ano', 'mes', 'folha', 'calculo', 'matricula']\r\n",
        "tamanhoPartes=10**5\r\n",
        "nomeTabela = 'contracheque'\r\n",
        "for partesSQL in pd.read_sql_query(SQL, conexaoOracle, chunksize=tamanhoPartes):\r\n",
        "    partesSQL.to_sql(name=nomeTabela, con=conexaoSQLite, if_exists=\"append\", index=False)\r\n",
        "    print(partesSQL[camposSelecionados].values[0])\r\n",
        "    #print(partesSQL.iloc[0, 1])"
      ],
      "execution_count": null,
      "outputs": []
    },
    {
      "cell_type": "code",
      "metadata": {
        "id": "Al4Rd9bhNAqR"
      },
      "source": [
        "%%timeit\r\n",
        "pd.read_sql(f'select count(*) from {nomeTabela}', conexaoSQLite).head()"
      ],
      "execution_count": null,
      "outputs": []
    },
    {
      "cell_type": "code",
      "metadata": {
        "id": "8XLzmXfiNPSf"
      },
      "source": [
        "pd.read_sql(f'select orgao, count(*) from {nomeTabela} where ano = \"2020\" group by orgao', conexaoSQLite)"
      ],
      "execution_count": null,
      "outputs": []
    },
    {
      "cell_type": "code",
      "metadata": {
        "id": "70j6WX8PMo3v"
      },
      "source": [
        "%%timeit\r\n",
        "with conexaoSQLite.connect() as con:\r\n",
        "    rs = con.execute(f'select orgao, count(*) from {nomeTabela} where ano = \"2020\" group by orgao')\r\n",
        "    for row in rs:\r\n",
        "        print row"
      ],
      "execution_count": null,
      "outputs": []
    },
    {
      "cell_type": "markdown",
      "metadata": {
        "id": "FRo2xfzgaVvp"
      },
      "source": [
        "## Dump Todas as Tabelas SQLite"
      ]
    },
    {
      "cell_type": "code",
      "metadata": {
        "id": "t9uPCivtaWMj"
      },
      "source": [
        "def to_csv():\r\n",
        "    db = sqlite3.connect('database.db')\r\n",
        "    cursor = db.cursor()\r\n",
        "    cursor.execute(\"SELECT name FROM sqlite_master WHERE type='table';\")\r\n",
        "    tables = cursor.fetchall()\r\n",
        "    for table_name in tables:\r\n",
        "        table_name = table_name[0]\r\n",
        "        table = pd.read_sql_query(\"SELECT * from %s\" % table_name, db)\r\n",
        "        table.to_csv(table_name + '.csv', index_label='index')\r\n",
        "    cursor.close()\r\n",
        "    db.close()"
      ],
      "execution_count": null,
      "outputs": []
    },
    {
      "cell_type": "markdown",
      "metadata": {
        "id": "AtSExq3gbMCh"
      },
      "source": [
        "## Mostrar os Nomes de Tabelas e Nomes de Colunas de Todas as Tableas do SQLite  "
      ]
    },
    {
      "cell_type": "code",
      "metadata": {
        "id": "Pg6exNAebE6u"
      },
      "source": [
        "# print out the table names and the column names for those tables\r\n",
        "db_filename = 'database.sqlite'\r\n",
        "newline_indent = '\\n   '\r\n",
        "\r\n",
        "db=sqlite3.connect(db_filename)\r\n",
        "db.text_factory = str\r\n",
        "cur = db.cursor()\r\n",
        "\r\n",
        "result = cur.execute(\"SELECT name FROM sqlite_master WHERE type='table';\").fetchall()\r\n",
        "table_names = sorted(list(zip(*result))[0])\r\n",
        "print (\"\\ntables are:\"+newline_indent+newline_indent.join(table_names))\r\n",
        "\r\n",
        "for table_name in table_names:\r\n",
        "    result = cur.execute(\"PRAGMA table_info('%s')\" % table_name).fetchall()\r\n",
        "    column_names = list(zip(*result))[1]\r\n",
        "    print ((\"\\ncolumn names for %s:\" % table_name)\r\n",
        "           +newline_indent\r\n",
        "           +(newline_indent.join(column_names)))\r\n",
        "\r\n",
        "db.close()\r\n",
        "print (\"\\nexiting.\")"
      ],
      "execution_count": null,
      "outputs": []
    },
    {
      "cell_type": "code",
      "metadata": {
        "id": "GADi4KfbcEMs"
      },
      "source": [
        "# Convert file existing_db.db to SQL dump file dump.sql\r\n",
        "import sqlite3, os\r\n",
        "\r\n",
        "con = sqlite3.connect('existing_db.db')\r\n",
        "with open('dump.sql', 'w') as f:\r\n",
        "    for line in con.iterdump():\r\n",
        "        f.write('%s\\n' % line)"
      ],
      "execution_count": null,
      "outputs": []
    }
  ]
}