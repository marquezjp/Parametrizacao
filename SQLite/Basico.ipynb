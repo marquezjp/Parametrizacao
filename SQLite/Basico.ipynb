{
  "nbformat": 4,
  "nbformat_minor": 0,
  "metadata": {
    "colab": {
      "name": "Basico.ipynb",
      "provenance": [],
      "collapsed_sections": [
        "rObVQzFtKgJe",
        "tLgGR2m2KXL-",
        "4648yevAKNUn",
        "ofiK7XDXVXM4",
        "0BL6oik5oS6B",
        "EPq_9XlyKoPy",
        "oCarjGEqIQ_V",
        "AtSExq3gbMCh",
        "ihZMZN4M9coI",
        "FRo2xfzgaVvp",
        "ViosGGwG17LR"
      ],
      "authorship_tag": "ABX9TyP4Ga1o8jUDWuCG0bKRJKde",
      "include_colab_link": true
    },
    "kernelspec": {
      "name": "python3",
      "display_name": "Python 3"
    }
  },
  "cells": [
    {
      "cell_type": "markdown",
      "metadata": {
        "id": "view-in-github",
        "colab_type": "text"
      },
      "source": [
        "<a href=\"https://colab.research.google.com/github/marquezjp/SQLToPandas/blob/main/SQLite/Basico.ipynb\" target=\"_parent\"><img src=\"https://colab.research.google.com/assets/colab-badge.svg\" alt=\"Open In Colab\"/></a>"
      ]
    },
    {
      "cell_type": "markdown",
      "metadata": {
        "id": "4-X1eyUziT8J"
      },
      "source": [
        "# Manipular SQLite"
      ]
    },
    {
      "cell_type": "markdown",
      "metadata": {
        "id": "rObVQzFtKgJe"
      },
      "source": [
        "## Preparar Ambiente"
      ]
    },
    {
      "cell_type": "code",
      "metadata": {
        "id": "zuHi7TO7iNsN"
      },
      "source": [
        "# Carrega a Biblioteca do Oracle, YAML e Pandas\n",
        "from datetime import date\n",
        "import csv\n",
        "import pandas as pd"
      ],
      "execution_count": null,
      "outputs": []
    },
    {
      "cell_type": "code",
      "metadata": {
        "id": "EzbQUKd1nSbe"
      },
      "source": [
        "import sqlite3"
      ],
      "execution_count": null,
      "outputs": []
    },
    {
      "cell_type": "code",
      "metadata": {
        "id": "2ja1P2DSYaAH"
      },
      "source": [
        "from sqlalchemy.engine import create_engine"
      ],
      "execution_count": null,
      "outputs": []
    },
    {
      "cell_type": "code",
      "metadata": {
        "id": "yX1OeorAPGbv"
      },
      "source": [
        "today = date.today().strftime(\"%d/%m/%Y\")\r\n",
        "print(\"Hoje é\", today)"
      ],
      "execution_count": null,
      "outputs": []
    },
    {
      "cell_type": "code",
      "metadata": {
        "id": "L20ouHXMuXR7"
      },
      "source": [
        "!dir"
      ],
      "execution_count": null,
      "outputs": []
    },
    {
      "cell_type": "markdown",
      "metadata": {
        "id": "tLgGR2m2KXL-"
      },
      "source": [
        "## Conexão com SQLite"
      ]
    },
    {
      "cell_type": "code",
      "metadata": {
        "id": "DQ0GWcogme8H"
      },
      "source": [
        "# Cria Paramentros de Configuração do Banco de Dados\r\n",
        "sqliteConfig = {\r\n",
        "    'dialect': 'sqlite',\r\n",
        "    'dbworkpath': 'Dados/SQLite',\r\n",
        "    'dbfilename': 'sigrh',\r\n",
        "    'dbext': 'sqlite'\r\n",
        "}"
      ],
      "execution_count": null,
      "outputs": []
    },
    {
      "cell_type": "code",
      "metadata": {
        "id": "hMXaOZycm8S7"
      },
      "source": [
        "# Cria a Conexão Direta no SQLite\r\n",
        "dbworkpath = sqliteConfig.get('dbworkpath', '')\r\n",
        "dbfilename = sqliteConfig.get('dbfilename', '')\r\n",
        "dbext = sqliteConfig.get('dbext', '')\r\n",
        "dburl = f'{dbworkpath}/{dbfilename}.{dbext}' if dbfilename else ''\r\n",
        "\r\n",
        "conexaoSQLite = sqlite3.connect(dburl)\r\n",
        "conexaoSQLite"
      ],
      "execution_count": null,
      "outputs": []
    },
    {
      "cell_type": "code",
      "metadata": {
        "id": "SknI5dawdRnq"
      },
      "source": [
        "# Cria a Conexão do SQLite via SQL Alchemy\n",
        "dialeto = sqliteConfig.get('dialect', 'sqlite')\n",
        "\n",
        "dbworkpath = sqliteConfig.get('dbworkpath', '')\n",
        "dbfilename = sqliteConfig.get('dbfilename', '')\n",
        "dbext = sqliteConfig.get('dbext', '')\n",
        "dburl = f'{dbworkpath}/{dbfilename}.{dbext}' if dbfilename else ''\n",
        "\n",
        "conexaoDB = create_engine(f'{dialeto}:///{dburl}', echo=False)\n",
        "conexaoDB"
      ],
      "execution_count": null,
      "outputs": []
    },
    {
      "cell_type": "markdown",
      "metadata": {
        "id": "4648yevAKNUn"
      },
      "source": [
        "## Consulta SQL"
      ]
    },
    {
      "cell_type": "markdown",
      "metadata": {
        "id": "3JLxyNO0daLn"
      },
      "source": [
        "**Principais comandos do SQLite**\r\n",
        "\r\n",
        "**Verificar as Tabelas Existentes**\r\n",
        "\r\n",
        "```\r\n",
        "SELECT name FROM sqlite_master WHERE type=\"table\"\r\n",
        "\r\n",
        "SELECT sql FROM sqlite_master WHERE type = \"table\" AND name = \"table_name\"\r\n",
        "\r\n",
        "PRAGMA table_info(\"table_name\")\r\n",
        "\r\n",
        "DROP TABLE [IF EXISTS] table_name\r\n",
        "```\r\n",
        "\r\n",
        "**Verificar os Index Existentes**\r\n",
        "\r\n",
        "```\r\n",
        "SELECT * FROM sqlite_master WHERE type = \"index\"\r\n",
        "\r\n",
        "SELECT type, name, tbl_name, sql FROM sqlite_master WHERE type= \"index\"\r\n",
        "\r\n",
        "PRAGMA index_list(\"table_name\")\r\n",
        "\r\n",
        "PRAGMA index_info(\"index_name\")\r\n",
        "\r\n",
        "CREATE INDEX idx_contacts_name ON contacts (first_name, last_name)\r\n",
        "\r\n",
        "CREATE [UNIQUE] INDEX index_name ON table_name ( column_name [, ...] )\r\n",
        "\r\n",
        "DROP INDEX [IF EXISTS] index_name\r\n",
        "```\r\n",
        "\r\n",
        "**Exemplo de Create Table e Index**\r\n",
        "```\r\n",
        "CREATE TABLE [IF NOT EXISTS] table_name(\r\n",
        "  chng_id INTEGER PRIMARY KEY,\r\n",
        "  acct_no INTEGER REFERENCES account,\r\n",
        "  location INTEGER REFERENCES locations,\r\n",
        "  amt INTEGER,  -- in cents\r\n",
        "  authority TEXT,\r\n",
        "  comment TEXT\r\n",
        ")\r\n",
        "\r\n",
        "CREATE INDEX index_name ON table_name(acct_no, abs(amt))\r\n",
        "```"
      ]
    },
    {
      "cell_type": "markdown",
      "metadata": {
        "id": "ofiK7XDXVXM4"
      },
      "source": [
        "## Executar Comandos SQLite"
      ]
    },
    {
      "cell_type": "code",
      "metadata": {
        "id": "OsdJGS4cZXUL"
      },
      "source": [
        "# Excecutar comandos SQLite com conexão direta no SQLite\r\n",
        "%%time\r\n",
        "cursor = conexaoSQLite.cursor()\r\n",
        "cursor.execute('SELECT name FROM sqlite_master WHERE type=\"table\"')\r\n",
        "print(cursor.fetchall())\r\n",
        "cursor.close()"
      ],
      "execution_count": null,
      "outputs": []
    },
    {
      "cell_type": "code",
      "metadata": {
        "id": "2gF3q_w7Znbg"
      },
      "source": [
        "# Excecutar comandos SQLite com conexão via SQL Alchemy\r\n",
        "%%time\r\n",
        "with conexaoDB.connect() as conecta:\r\n",
        "    for linha in conecta.execute(f'SELECT name FROM sqlite_master WHERE type=\"table\"'):\r\n",
        "        print (linha)"
      ],
      "execution_count": null,
      "outputs": []
    },
    {
      "cell_type": "code",
      "metadata": {
        "id": "xAiwmPMucQmC"
      },
      "source": [
        "# Excecutar select do SQLite com conexão via Pandas e SQL Alchemy\r\n",
        "%%time\r\n",
        "base = pd.read_sql_query('SELECT * FROM folhas', conexaoDB)\r\n",
        "base"
      ],
      "execution_count": null,
      "outputs": []
    },
    {
      "cell_type": "markdown",
      "metadata": {
        "id": "0BL6oik5oS6B"
      },
      "source": [
        "## Salva os Dados Selecionados no Arquivo CSV"
      ]
    },
    {
      "cell_type": "code",
      "metadata": {
        "id": "nD5hvI0-oUyN"
      },
      "source": [
        "# Salvar os dados selecionados no arquivo CSV\n",
        "%%time\n",
        "nomeArquivo = 'nomeTabela'\n",
        "base.to_csv(f'Dados/{nomeArquivo}.csv', index=False, encoding='utf-8', sep=';', decimal=',', quoting=csv.QUOTE_NONNUMERIC)"
      ],
      "execution_count": null,
      "outputs": []
    },
    {
      "cell_type": "code",
      "metadata": {
        "id": "ghGHqMr1vcBz"
      },
      "source": [
        "# Salvar os dados selecionados no arquivo ZIP\r\n",
        "%%time\r\n",
        "nomeArquivo = 'nomeTabela'\r\n",
        "compression_opts = dict(method='zip', archive_name=f'{nomeArquivo}.csv')\r\n",
        "base.to_csv(f'Dados/{nomeArquivo}.zip', index=False, encoding='utf-8', sep=';', decimal=',', quoting=csv.QUOTE_NONNUMERIC, compression=compression_opts)"
      ],
      "execution_count": null,
      "outputs": []
    },
    {
      "cell_type": "markdown",
      "metadata": {
        "id": "EPq_9XlyKoPy"
      },
      "source": [
        "## Salva os Dados Selecionados no SQLite"
      ]
    },
    {
      "cell_type": "code",
      "metadata": {
        "id": "tkW6PZEwKtEa"
      },
      "source": [
        "%%time\r\n",
        "nomeTabela = 'nomeTabela'\r\n",
        "base.to_sql(name=nomeTabela, con=conexaoDB, if_exists=\"replace\", index=False)"
      ],
      "execution_count": null,
      "outputs": []
    },
    {
      "cell_type": "code",
      "metadata": {
        "id": "TS2mAc8IK6nO"
      },
      "source": [
        "%%time\r\n",
        "pd.read_sql(f'select * from {nomeTabela}', conexaoDB).head()"
      ],
      "execution_count": null,
      "outputs": []
    },
    {
      "cell_type": "markdown",
      "metadata": {
        "id": "oCarjGEqIQ_V"
      },
      "source": [
        "## Salva os Dados Selecionados em partes no SQLite"
      ]
    },
    {
      "cell_type": "code",
      "metadata": {
        "id": "NqSW_1y1_SoE"
      },
      "source": [
        "%%time\r\n",
        "tamanhoPartes=10**3\r\n",
        "nomeArquivo = 'nomeTabela'\r\n",
        "nomeTabela = 'nomeTabela'\r\n",
        "for partesArq in pd.read_csv(f'{nomeArquivo}.csv', encoding='utf-8', sep=';', decimal=',', quoting=csv.QUOTE_NONNUMERIC, chunksize=tamanhoPartes):\r\n",
        "  partesArq.to_sql(name=nomeTabela, con=conexaoDB, if_exists=\"append\", index=False)\r\n",
        "  print(partesArq.iloc[0, 1])"
      ],
      "execution_count": null,
      "outputs": []
    },
    {
      "cell_type": "code",
      "metadata": {
        "id": "Al4Rd9bhNAqR"
      },
      "source": [
        "%%time\r\n",
        "pd.read_sql(f'select count(*) from {nomeTabela}', conexaoSQLite)"
      ],
      "execution_count": null,
      "outputs": []
    },
    {
      "cell_type": "markdown",
      "metadata": {
        "id": "AtSExq3gbMCh"
      },
      "source": [
        "## Mostrar os Nomes de Tabelas e Nomes de Colunas de Todas as Tabelas do SQLite  "
      ]
    },
    {
      "cell_type": "code",
      "metadata": {
        "id": "AA5ZOSxS7FWC"
      },
      "source": [
        "# Mostrar os Nomes de Tabelas e Nomes de Colunas de Todas as Tabelas do SQLite\r\n",
        "newline_indent = '\\n   '\r\n",
        "conexaoSQLite.text_factory = str\r\n",
        "cursor = conexaoSQLite.cursor()\r\n",
        "\r\n",
        "result = cursor.execute(\"SELECT name FROM sqlite_master WHERE type='table';\").fetchall()\r\n",
        "table_names = sorted(list(zip(*result))[0])\r\n",
        "print (\"\\nLista de Tabelas:\"+newline_indent+newline_indent.join(table_names))\r\n",
        "\r\n",
        "for table_name in table_names:\r\n",
        "    result = cursor.execute(\"PRAGMA table_info('%s')\" % table_name).fetchall()\r\n",
        "    column_names = list(zip(*result))[1]\r\n",
        "    print ((\"\\nNomes das Colunas da Tabela %s:\" % table_name)\r\n",
        "           +newline_indent\r\n",
        "           +(newline_indent.join(column_names)))\r\n",
        "\r\n",
        "cursor.close()"
      ],
      "execution_count": null,
      "outputs": []
    },
    {
      "cell_type": "markdown",
      "metadata": {
        "id": "ihZMZN4M9coI"
      },
      "source": [
        "## Gerar DDL de todas as Tabelas de um Banco de Dados SQLite  "
      ]
    },
    {
      "cell_type": "code",
      "metadata": {
        "id": "Pg6exNAebE6u"
      },
      "source": [
        "# Gerar DDL de todas as Tabelas de um Banco de Dados SQLite\r\n",
        "cursor = conexaoSQLite.cursor()\r\n",
        "\r\n",
        "result = cursor.execute(\"SELECT name FROM sqlite_master WHERE type='table';\").fetchall()\r\n",
        "table_names = sorted(list(zip(*result))[0])\r\n",
        "\r\n",
        "newline_indent = '\\n   '\r\n",
        "print (\"Lista de Tabelas:\"+newline_indent+newline_indent.join(table_names))\r\n",
        "print('\\n')\r\n",
        "\r\n",
        "for table_name in table_names:\r\n",
        "    result = cursor.execute(\"SELECT sql FROM sqlite_master WHERE type = 'table' AND name = '%s'\" % table_name).fetchall()\r\n",
        "    print (\"DDL da Tabela %s:\" % table_name)\r\n",
        "    for linha in result[0]:\r\n",
        "      print (linha)\r\n",
        "    print(';\\n')\r\n",
        "\r\n",
        "cursor.close()"
      ],
      "execution_count": null,
      "outputs": []
    },
    {
      "cell_type": "markdown",
      "metadata": {
        "id": "FRo2xfzgaVvp"
      },
      "source": [
        "## Dump de todas as Tabelas de um Banco de Dados SQLite"
      ]
    },
    {
      "cell_type": "code",
      "metadata": {
        "id": "t9uPCivtaWMj"
      },
      "source": [
        "# Dump de todas as Tebelas um Banco de Dados SQLite para arquivos CSV \r\n",
        "cursor = conexaoSQLite.cursor()\r\n",
        "cursor.execute(\"SELECT name FROM sqlite_master WHERE type='table';\")\r\n",
        "tables = cursor.fetchall()\r\n",
        "for table_name in tables:\r\n",
        "    table_name = table_name[0]\r\n",
        "    table = pd.read_sql_query(\"SELECT * from %s\" % table_name, conexaoSQLite)\r\n",
        "    table.to_csv('Dados/Dump/' + table_name + '.csv', index=False, encoding='utf-8', sep=';', decimal=',', quoting=csv.QUOTE_NONNUMERIC)\r\n",
        "cursor.close()"
      ],
      "execution_count": null,
      "outputs": []
    },
    {
      "cell_type": "markdown",
      "metadata": {
        "id": "ViosGGwG17LR"
      },
      "source": [
        "## Dump de um Banco de Dados SQLite"
      ]
    },
    {
      "cell_type": "code",
      "metadata": {
        "id": "GADi4KfbcEMs"
      },
      "source": [
        "# Dump de um Banco de Dados SQLite\r\n",
        "nomeArquivoDump = 'Dados/Dump/dump.sql'\r\n",
        "with open(nomeArquivoDump, 'w') as f:\r\n",
        "    for line in conexaoSQLite.iterdump():\r\n",
        "        f.write('%s\\n' % line)"
      ],
      "execution_count": null,
      "outputs": []
    }
  ]
}