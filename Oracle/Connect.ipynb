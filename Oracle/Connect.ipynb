{
  "nbformat": 4,
  "nbformat_minor": 0,
  "metadata": {
    "colab": {
      "name": "Connect.ipynb",
      "provenance": [],
      "collapsed_sections": [],
      "authorship_tag": "ABX9TyNQ7YOjz6ubAYOB4gIbZI8R",
      "include_colab_link": true
    },
    "kernelspec": {
      "name": "python3",
      "display_name": "Python 3"
    }
  },
  "cells": [
    {
      "cell_type": "markdown",
      "metadata": {
        "id": "view-in-github",
        "colab_type": "text"
      },
      "source": [
        "<a href=\"https://colab.research.google.com/github/marquezjp/SQLToPandas/blob/main/Oracle/Connect.ipynb\" target=\"_parent\"><img src=\"https://colab.research.google.com/assets/colab-badge.svg\" alt=\"Open In Colab\"/></a>"
      ]
    },
    {
      "cell_type": "code",
      "metadata": {
        "id": "XOyfqY3yBqLs"
      },
      "source": [
        "# Carrega a Biblioteca do Oracle\r\n",
        "import cx_Oracle"
      ],
      "execution_count": null,
      "outputs": []
    },
    {
      "cell_type": "code",
      "metadata": {
        "id": "Yssen0jQB0WW"
      },
      "source": [
        "# Definir o Diretorio do Oracle Client Libraries\r\n",
        "cx_Oracle.init_oracle_client(lib_dir=r\"P:\\Oracle\\InstantClient\")"
      ],
      "execution_count": null,
      "outputs": []
    },
    {
      "cell_type": "code",
      "metadata": {
        "id": "dyirc8ddBtAe"
      },
      "source": [
        "# Cria a conexão\r\n",
        "conn = cx_Oracle.connect('sigrhtre/tr3Mcz@192.168.10.242/bdteste.financas.pref')"
      ],
      "execution_count": null,
      "outputs": []
    },
    {
      "cell_type": "code",
      "metadata": {
        "id": "H1I5E0XvBstv"
      },
      "source": [
        "# Mostra da Versão\r\n",
        "print(conn.version)"
      ],
      "execution_count": null,
      "outputs": []
    },
    {
      "cell_type": "code",
      "metadata": {
        "id": "1pGRSZfHBr9X"
      },
      "source": [
        "# Encerra a conexão\r\n",
        "conn.close()"
      ],
      "execution_count": null,
      "outputs": []
    }
  ]
}