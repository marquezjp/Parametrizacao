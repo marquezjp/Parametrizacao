{
 "cells": [
  {
   "cell_type": "markdown",
   "metadata": {
    "colab_type": "text",
    "id": "view-in-github"
   },
   "source": [
    "<a href=\"https://colab.research.google.com/github/marquezjp/SQLToPandas/blob/main/Oracle/Query.ipynb\" target=\"_parent\"><img src=\"https://colab.research.google.com/assets/colab-badge.svg\" alt=\"Open In Colab\"/></a>"
   ]
  },
  {
   "cell_type": "markdown",
   "metadata": {
    "id": "4-X1eyUziT8J"
   },
   "source": [
    "# Exportar uma Query do Oracle para um DataFrame"
   ]
  },
  {
   "cell_type": "markdown",
   "metadata": {
    "id": "rObVQzFtKgJe",
    "tags": []
   },
   "source": [
    "## Preparar Ambiente"
   ]
  },
  {
   "cell_type": "markdown",
   "metadata": {
    "id": "JFCQNQbS69pN"
   },
   "source": [
    "Para instalar o [cx_Oracle](https://cx-oracle.readthedocs.io/en/latest/user_guide/installation.html)\n",
    "\n",
    "[Download](https://www.oracle.com/database/technologies/instant-client/winx64-64-downloads.html) do [Oracle Instant Client Basic Light](https://download.oracle.com/otn_software/nt/instantclient/19900/instantclient-basiclite-windows.x64-19.9.0.0.0dbru.zip)\n",
    "\n",
    "```\n",
    "!pip install cx_Oracle --upgrade\n",
    "```\n",
    "\n",
    "```\n",
    "cx_Oracle.init_oracle_client(lib_dir=r\"P:\\Oracle\\InstantClient\")\n",
    "```"
   ]
  },
  {
   "cell_type": "markdown",
   "metadata": {
    "id": "see_Laa3YhwP"
   },
   "source": [
    "Para instalar o XlsxWriter\n",
    "\n",
    "```\n",
    "!pip install -U XlsxWriter\n",
    "```"
   ]
  },
  {
   "cell_type": "markdown",
   "metadata": {
    "id": "dJI_ITHHH7zZ"
   },
   "source": [
    "Para instalar o Beautiful Soup\n",
    "\n",
    "```\n",
    "!pip install --upgrade beautifulsoup4\n",
    "```"
   ]
  },
  {
   "cell_type": "code",
   "execution_count": 35,
   "metadata": {
    "id": "xM7sNaSbLIY5"
   },
   "outputs": [],
   "source": [
    "# Carrega a Biblioteca Basicas\n",
    "from datetime import date\n",
    "from io import BytesIO\n",
    "import csv"
   ]
  },
  {
   "cell_type": "code",
   "execution_count": 2,
   "metadata": {
    "id": "zuHi7TO7iNsN"
   },
   "outputs": [],
   "source": [
    "# Carrega a Biblioteca Pandas\n",
    "import pandas as pd"
   ]
  },
  {
   "cell_type": "code",
   "execution_count": 3,
   "metadata": {
    "id": "o_Tj1FxvYVaO"
   },
   "outputs": [],
   "source": [
    "# Carrega a Biblioteca Excel\n",
    "import xlsxwriter"
   ]
  },
  {
   "cell_type": "code",
   "execution_count": 4,
   "metadata": {
    "id": "2ja1P2DSYaAH"
   },
   "outputs": [],
   "source": [
    "# Carrega a Biblioteca Oracle, SQLite e SQL Alchemy\n",
    "#import sqlite3\n",
    "import cx_Oracle\n",
    "from sqlalchemy.engine import create_engine"
   ]
  },
  {
   "cell_type": "code",
   "execution_count": 5,
   "metadata": {
    "colab": {
     "base_uri": "https://localhost:8080/"
    },
    "id": "yX1OeorAPGbv",
    "outputId": "757726f0-0937-4f5d-d7b3-2dd634f329a3"
   },
   "outputs": [
    {
     "name": "stdout",
     "output_type": "stream",
     "text": [
      "Hoje é 05/11/2021\n"
     ]
    }
   ],
   "source": [
    "today = date.today().strftime(\"%d/%m/%Y\")\n",
    "print(\"Hoje é\", today)"
   ]
  },
  {
   "cell_type": "markdown",
   "metadata": {
    "id": "tLgGR2m2KXL-",
    "tags": []
   },
   "source": [
    "## Conexão via SQL Alchemy"
   ]
  },
  {
   "cell_type": "code",
   "execution_count": 6,
   "metadata": {
    "colab": {
     "base_uri": "https://localhost:8080/"
    },
    "id": "G1soGNw8a0NJ",
    "outputId": "4dbf9bf3-d753-4dd7-f3c0-02e9b15c02a2"
   },
   "outputs": [
    {
     "data": {
      "text/plain": [
       "Engine(oracle+cx_oracle://sigrhprd:***@(DESCRIPTION=(ADDRESS=(PROTOCOL=TCP)(HOST=192.168.10.247)(PORT=1521))(CONNECT_DATA=(SERVICE_NAME=sigrhprod.financas.pref))))"
      ]
     },
     "execution_count": 6,
     "metadata": {},
     "output_type": "execute_result"
    }
   ],
   "source": [
    "# Definir o Diretorio do Oracle Client Libraries\n",
    "cx_Oracle.init_oracle_client(lib_dir=r\"P:\\Oracle\\InstantClient\")\n",
    "\n",
    "# Cria a Conexão do Oracle\n",
    "oracleConfig = {\n",
    "    'dialect': 'oracle',\n",
    "    'sql_driver': 'cx_oracle',\n",
    "    'dsn_tns': {\n",
    "        'host': '192.168.10.247',\n",
    "        'service': 'sigrhprod.financas.pref',\n",
    "        'port': 1521},\n",
    "    'user': 'sigrhprd',\n",
    "    'password': 'prdM4c3i0'\n",
    "}\n",
    "\n",
    "dialeto = oracleConfig.get('dialect', 'oracle')\n",
    "sql_driver = oracleConfig.get('sql_driver', 'cx_oracle')\n",
    "\n",
    "dsn_tnsConfig = oracleConfig.get('dsn_tns', {'host': '', 'service': '', 'port': 1521})\n",
    "dsn_tns = cx_Oracle.makedsn(dsn_tnsConfig.get('host', '0.0.0.0'),\n",
    "                            dsn_tnsConfig.get('port', '1521'),\n",
    "                            service_name=dsn_tnsConfig.get('service', 'orcl'))\n",
    "\n",
    "user=oracleConfig.get('user', '')\n",
    "password=oracleConfig.get('password', '')\n",
    "\n",
    "conexaoOracle = create_engine(f'{dialeto}+{sql_driver}://{user}:{password}@{dsn_tns}')\n",
    "conexaoOracle"
   ]
  },
  {
   "cell_type": "markdown",
   "metadata": {
    "id": "4648yevAKNUn"
   },
   "source": [
    "## Consulta SQL"
   ]
  },
  {
   "cell_type": "markdown",
   "metadata": {
    "id": "JjDmhIt3VFB9",
    "tags": []
   },
   "source": [
    "### ContraCheque Simplificado"
   ]
  },
  {
   "cell_type": "code",
   "execution_count": 7,
   "metadata": {
    "id": "s7pn8b3L9nX4"
   },
   "outputs": [],
   "source": [
    "# ContraCheque Simplificado\n",
    "SQL = '''\n",
    "select \n",
    " o.sgorgao as Orgao,\n",
    " f.nuanoreferencia || lpad(f.numesreferencia,2,0) as AnoMes,\n",
    " lpad(v.numatricula, 7, 0)||'-'||v.nudvmatricula as Matricula,\n",
    " lpad(p.nucpf,11,0) as CPF,\n",
    " p.nmpessoa as Nome,\n",
    "\n",
    " nvl2(capa.cdcargocomissionado, 'COMISSIONADO', itemnv1.deitemcarreira) as Carreira,\n",
    " nvl(d.decargocomissionado, item.deitemcarreira) as Cargo,\n",
    "\n",
    " lpad(rub.cdtiporubrica,2,0) || '-' || lpad(rub.nurubrica,4,'0') || '-' || lpad(pag.nusufixorubrica,2,'0') as Rubrica,\n",
    " rub.derubricaagrupamento as DeRubrica,\n",
    " pag.vlpagamento as Valor\n",
    "\n",
    "from epaghistoricorubricavinculo pag\n",
    "inner join epagfolhapagamento f on f.cdfolhapagamento = pag.cdfolhapagamento and f.flcalculodefinitivo = 'S'\n",
    "                               and f.cdtipofolhapagamento = 2 and f.cdtipocalculo = 1\n",
    "inner join epagcapahistrubricavinculo capa on capa.cdfolhapagamento = pag.cdfolhapagamento and capa.cdvinculo = pag.cdvinculo\n",
    "inner join vcadorgao o on o.cdorgao = f.cdorgao\n",
    "\n",
    "inner join ecadvinculo v on v.cdvinculo = pag.cdvinculo \n",
    "inner join ecadpessoa p on p.cdpessoa = v.cdpessoa\n",
    "\n",
    "left join ecadevolucaocargocomissionado d on d.cdcargocomissionado = capa.cdcargocomissionado\n",
    "\n",
    "left join ecadestruturacarreira estr on estr.cdestruturacarreira = capa.cdestruturacarreira\n",
    "left join ecaditemcarreira item on item.cditemcarreira = estr.cditemcarreira\n",
    "left join ecadestruturacarreira estrnv1 on estrnv1.cdestruturacarreira = estr.cdestruturacarreirapai\n",
    "left join ecaditemcarreira itemnv1 on itemnv1.cditemcarreira = estrnv1.cditemcarreira\n",
    "\n",
    "inner join vpagrubricaagrupamento rub on rub.cdrubricaagrupamento = pag.cdrubricaagrupamento\n",
    "\n",
    "where f.nuanoreferencia = 2021 and f.numesreferencia = 07\n",
    "  and rub.cdtiporubrica != 9\n",
    "  and o.sgorgao = 'SEMGE'\n",
    "  \n",
    "order by o.sgorgao, v.numatricula, rub.cdtiporubrica, rub.nurubrica, pag.nusufixorubrica\n",
    "'''"
   ]
  },
  {
   "cell_type": "markdown",
   "metadata": {
    "id": "ofiK7XDXVXM4"
   },
   "source": [
    "## Executar a Consulta"
   ]
  },
  {
   "cell_type": "markdown",
   "metadata": {
    "id": "tQTtqYYB3e_M"
   },
   "source": [
    "### Executar a Consulta na Base Oracle"
   ]
  },
  {
   "cell_type": "code",
   "execution_count": 8,
   "metadata": {
    "colab": {
     "base_uri": "https://localhost:8080/",
     "height": 215
    },
    "id": "CHT27iE93T9X",
    "outputId": "1803b08a-34ee-4c90-debe-5a176f4eb667"
   },
   "outputs": [
    {
     "name": "stdout",
     "output_type": "stream",
     "text": [
      "Wall time: 4.57 s\n"
     ]
    },
    {
     "data": {
      "text/html": [
       "<div>\n",
       "<style scoped>\n",
       "    .dataframe tbody tr th:only-of-type {\n",
       "        vertical-align: middle;\n",
       "    }\n",
       "\n",
       "    .dataframe tbody tr th {\n",
       "        vertical-align: top;\n",
       "    }\n",
       "\n",
       "    .dataframe thead th {\n",
       "        text-align: right;\n",
       "    }\n",
       "</style>\n",
       "<table border=\"1\" class=\"dataframe\">\n",
       "  <thead>\n",
       "    <tr style=\"text-align: right;\">\n",
       "      <th></th>\n",
       "      <th>orgao</th>\n",
       "      <th>anomes</th>\n",
       "      <th>matricula</th>\n",
       "      <th>cpf</th>\n",
       "      <th>nome</th>\n",
       "      <th>carreira</th>\n",
       "      <th>cargo</th>\n",
       "      <th>rubrica</th>\n",
       "      <th>derubrica</th>\n",
       "      <th>valor</th>\n",
       "    </tr>\n",
       "  </thead>\n",
       "  <tbody>\n",
       "    <tr>\n",
       "      <th>0</th>\n",
       "      <td>SEMGE</td>\n",
       "      <td>202107</td>\n",
       "      <td>0010153-2</td>\n",
       "      <td>56390068468</td>\n",
       "      <td>MARIA LUCIA DA SILVA SOUZA</td>\n",
       "      <td>ADMINISTRACAO GERAL - NIVEL ELEMENTAR 30H</td>\n",
       "      <td>AUXILIAR - SERVICOS GERAIS</td>\n",
       "      <td>01-0101-01</td>\n",
       "      <td>VENCIMENTO FIXO</td>\n",
       "      <td>1344.58</td>\n",
       "    </tr>\n",
       "    <tr>\n",
       "      <th>1</th>\n",
       "      <td>SEMGE</td>\n",
       "      <td>202107</td>\n",
       "      <td>0010153-2</td>\n",
       "      <td>56390068468</td>\n",
       "      <td>MARIA LUCIA DA SILVA SOUZA</td>\n",
       "      <td>ADMINISTRACAO GERAL - NIVEL ELEMENTAR 30H</td>\n",
       "      <td>AUXILIAR - SERVICOS GERAIS</td>\n",
       "      <td>01-0121-01</td>\n",
       "      <td>UNID AVAL DESEMP CENT/PESSOAL</td>\n",
       "      <td>900.00</td>\n",
       "    </tr>\n",
       "    <tr>\n",
       "      <th>2</th>\n",
       "      <td>SEMGE</td>\n",
       "      <td>202107</td>\n",
       "      <td>0010153-2</td>\n",
       "      <td>56390068468</td>\n",
       "      <td>MARIA LUCIA DA SILVA SOUZA</td>\n",
       "      <td>ADMINISTRACAO GERAL - NIVEL ELEMENTAR 30H</td>\n",
       "      <td>AUXILIAR - SERVICOS GERAIS</td>\n",
       "      <td>01-0190-01</td>\n",
       "      <td>ANUENIO</td>\n",
       "      <td>443.71</td>\n",
       "    </tr>\n",
       "    <tr>\n",
       "      <th>3</th>\n",
       "      <td>SEMGE</td>\n",
       "      <td>202107</td>\n",
       "      <td>0010153-2</td>\n",
       "      <td>56390068468</td>\n",
       "      <td>MARIA LUCIA DA SILVA SOUZA</td>\n",
       "      <td>ADMINISTRACAO GERAL - NIVEL ELEMENTAR 30H</td>\n",
       "      <td>AUXILIAR - SERVICOS GERAIS</td>\n",
       "      <td>05-0339-01</td>\n",
       "      <td>C.D.C.B.BRASIL</td>\n",
       "      <td>411.96</td>\n",
       "    </tr>\n",
       "    <tr>\n",
       "      <th>4</th>\n",
       "      <td>SEMGE</td>\n",
       "      <td>202107</td>\n",
       "      <td>0010153-2</td>\n",
       "      <td>56390068468</td>\n",
       "      <td>MARIA LUCIA DA SILVA SOUZA</td>\n",
       "      <td>ADMINISTRACAO GERAL - NIVEL ELEMENTAR 30H</td>\n",
       "      <td>AUXILIAR - SERVICOS GERAIS</td>\n",
       "      <td>05-0399-01</td>\n",
       "      <td>BRADESCO FINANCIAMENTOS</td>\n",
       "      <td>33.17</td>\n",
       "    </tr>\n",
       "  </tbody>\n",
       "</table>\n",
       "</div>"
      ],
      "text/plain": [
       "   orgao  anomes  matricula          cpf                        nome  \\\n",
       "0  SEMGE  202107  0010153-2  56390068468  MARIA LUCIA DA SILVA SOUZA   \n",
       "1  SEMGE  202107  0010153-2  56390068468  MARIA LUCIA DA SILVA SOUZA   \n",
       "2  SEMGE  202107  0010153-2  56390068468  MARIA LUCIA DA SILVA SOUZA   \n",
       "3  SEMGE  202107  0010153-2  56390068468  MARIA LUCIA DA SILVA SOUZA   \n",
       "4  SEMGE  202107  0010153-2  56390068468  MARIA LUCIA DA SILVA SOUZA   \n",
       "\n",
       "                                    carreira                       cargo  \\\n",
       "0  ADMINISTRACAO GERAL - NIVEL ELEMENTAR 30H  AUXILIAR - SERVICOS GERAIS   \n",
       "1  ADMINISTRACAO GERAL - NIVEL ELEMENTAR 30H  AUXILIAR - SERVICOS GERAIS   \n",
       "2  ADMINISTRACAO GERAL - NIVEL ELEMENTAR 30H  AUXILIAR - SERVICOS GERAIS   \n",
       "3  ADMINISTRACAO GERAL - NIVEL ELEMENTAR 30H  AUXILIAR - SERVICOS GERAIS   \n",
       "4  ADMINISTRACAO GERAL - NIVEL ELEMENTAR 30H  AUXILIAR - SERVICOS GERAIS   \n",
       "\n",
       "      rubrica                      derubrica    valor  \n",
       "0  01-0101-01                VENCIMENTO FIXO  1344.58  \n",
       "1  01-0121-01  UNID AVAL DESEMP CENT/PESSOAL   900.00  \n",
       "2  01-0190-01                        ANUENIO   443.71  \n",
       "3  05-0339-01                 C.D.C.B.BRASIL   411.96  \n",
       "4  05-0399-01        BRADESCO FINANCIAMENTOS    33.17  "
      ]
     },
     "execution_count": 8,
     "metadata": {},
     "output_type": "execute_result"
    }
   ],
   "source": [
    "%%time\n",
    "base = pd.read_sql_query(SQL, conexaoOracle)\n",
    "base.head()"
   ]
  },
  {
   "cell_type": "markdown",
   "metadata": {
    "id": "wefOxbcs3ocC"
   },
   "source": [
    "### Selecionar Campos da Consulta"
   ]
  },
  {
   "cell_type": "code",
   "execution_count": 9,
   "metadata": {},
   "outputs": [],
   "source": [
    "campos = [\n",
    "    ('orgao', 9, 'Codigo'), \n",
    "    ('anomes', 6, 'Codigo'),\n",
    "    ('matricula', 9, 'Codigo'),\n",
    "    ('cpf', 11, 'Codigo'),\n",
    "    ('nome', 50, 'Descricao'),\n",
    "    ('carreira', 30, 'Descricao'),\n",
    "    ('cargo', 50, 'Descricao'),\n",
    "    ('rubrica', 10, 'Codigo'),\n",
    "    ('derubrica', 30, 'Descricao'),\n",
    "    ('valor', 9, 'Valor')\n",
    "]"
   ]
  },
  {
   "cell_type": "code",
   "execution_count": 10,
   "metadata": {
    "id": "BsATrHWUmYL6"
   },
   "outputs": [
    {
     "name": "stdout",
     "output_type": "stream",
     "text": [
      "['SEMGE' '202107' '0010153-2' '56390068468' 'MARIA LUCIA DA SILVA SOUZA'\n",
      " 'ADMINISTRACAO GERAL - NIVEL ELEMENTAR 30H' 'AUXILIAR - SERVICOS GERAIS'\n",
      " '01-0101-01' 'VENCIMENTO FIXO' 1344.58]\n"
     ]
    }
   ],
   "source": [
    "camposSelecionados = [ campo[0] for campo in campos]\n",
    "#print(base[camposSelecionados].iloc[0].values)\n",
    "print(base[camposSelecionados].values[0])"
   ]
  },
  {
   "cell_type": "markdown",
   "metadata": {
    "id": "MRqVykRGWcyd"
   },
   "source": [
    "## Salva os Dados Selecionados no Excel"
   ]
  },
  {
   "cell_type": "markdown",
   "metadata": {
    "id": "YVYHx6vA-Nqq"
   },
   "source": [
    "**Table Style Medium**\n",
    "\n",
    "**Cor**\n",
    "\n",
    "* 1 e 15 - Branco\n",
    "* 8 e 22 - Cinza Claro\n",
    "* 2, 9, 16 e 23 - Azul\n",
    "* 3, 10, 17 e 24 - Vermelho\n",
    "* 4, 11, 18 e 25 - Verde Oliva\n",
    "* 5, 12, 19 e 26 - Roxo\n",
    "* 6, 13, 20 e 27 - Verde Agua\n",
    "* 7, 14, 21 e 28 - Laranja\n",
    "\n",
    "**Linhas Brancas (1 a 7, e 15 a 21)**\n",
    "\n",
    "**Sem Cabeçalho (22 a 28)**\n"
   ]
  },
  {
   "cell_type": "code",
   "execution_count": 45,
   "metadata": {
    "id": "UEmwyCp4WfzO"
   },
   "outputs": [
    {
     "name": "stdout",
     "output_type": "stream",
     "text": [
      "Wall time: 512 ms\n"
     ]
    }
   ],
   "source": [
    "%%time\n",
    "dataReferencia = date.today().strftime('%Y%m%d')\n",
    "nomePlanilha = 'CONTRACHEQUE'\n",
    "nomeArquivo = f'SIGRH-MCZ - {nomePlanilha} - {dataReferencia}.xlsx'\n",
    "\n",
    "planilha = pd.ExcelWriter(nomeArquivo, engine='xlsxwriter', datetime_format='dd/mm/yy', date_format='dd/mm/yy')\n",
    "base.to_excel(planilha, sheet_name=nomePlanilha, startrow=0, index=False)\n",
    "\n",
    "# Formata Tabela\n",
    "pagina = planilha.sheets[nomePlanilha]\n",
    "linhas, colunas = base.shape\n",
    "column_settings = [{'header': column.upper()} for column in base.columns.values.tolist()]\n",
    "tabelaOpcoes = {\n",
    "    'name': nomePlanilha,\n",
    "    'style': 'Table Style Medium 15',\n",
    "    'autofilter': True,\n",
    "    'columns': column_settings\n",
    "}\n",
    "pagina.add_table(0, 0, linhas, colunas - 1, tabelaOpcoes)\n",
    "\n",
    "vl_format = planilha.book.add_format({'align': 'right', 'num_format': '#,##0.00'})\n",
    "de_format = planilha.book.add_format({'align': 'left'})\n",
    "cd_format = planilha.book.add_format({'align': 'center'})\n",
    "\n",
    "for campo, parm in enumerate(campos):\n",
    "    tamanho = parm[1]\n",
    "    if parm[2] == 'Descricao':\n",
    "        formato = de_format\n",
    "    elif parm[2] == 'Codigo':\n",
    "        formato = cd_format\n",
    "    elif parm[2] == 'Valor':\n",
    "        formato = vl_format\n",
    "    else:\n",
    "        formato = de_format\n",
    "    pagina.set_column(campo, campo, tamanho, formato)\n",
    "\n",
    "# Formata Impressão\n",
    "pagina.hide_gridlines(2)\n",
    "pagina.freeze_panes(1, 0)\n",
    "pagina.print_area(0,0,linhas, colunas)\n",
    "pagina.repeat_rows(0,0)\n",
    "pagina.fit_to_pages(1,0)\n",
    "pagina.set_paper(9) # A4\n",
    "pagina.set_landscape() # set_landscape or set_portrait()\n",
    "pagina.center_horizontally()\n",
    "#pagina.center_vertically()\n",
    "pagina.set_margins(left=0.7, right=0.7, top=0.9, bottom=0.75)\n",
    "\n",
    "# Formata Cabecalho e Rodape\n",
    "cabecalho = '&L&[Picture]' \\\n",
    "          + '&C' + '&\"Courier New,Bold\"' \\\n",
    "                 + 'PREFEITURA DE MACEIÓ' \\\n",
    "                 + '\\n\\n' \\\n",
    "                 + 'SECRETARIA MUNICIPAL DE GESTAO' \\\n",
    "                 + '\\n\\n' \\\n",
    "                 + 'CONTRACHEQUE' \\\n",
    "          + '&R' + 'Data: &D'\n",
    "\n",
    "logo_file = open('Prefeitura_Maceio_Logo.png', 'rb')\n",
    "logo_data = BytesIO(logo_file.read())\n",
    "\n",
    "pagina.set_header(cabecalho,\n",
    "                  {'image_left': 'logo.png',\n",
    "                   'image_data_left': logo_data})\n",
    "#pagina.set_header(cabecalho, {'image_left': 'Prefeitura_Maceio_Logo.png'})\n",
    "rodape = '&L' + 'SEMGE / AL – Sistema Informatizado de Gestão de Recursos Humanos' + ' ' + 'Módulo de PAGAMENTOS' \\\n",
    "       + '&R' +  'Página: &P of &N'\n",
    "pagina.set_footer(rodape)\n",
    "\n",
    "# Grava a Planilha\n",
    "planilha.save()"
   ]
  },
  {
   "cell_type": "code",
   "execution_count": null,
   "metadata": {},
   "outputs": [],
   "source": []
  }
 ],
 "metadata": {
  "colab": {
   "authorship_tag": "ABX9TyPSZX3I+WGpMgrbDoDwbLK7",
   "collapsed_sections": [
    "rObVQzFtKgJe",
    "JjDmhIt3VFB9",
    "jzOvgGekVPA2",
    "oiEBdLo-VShP",
    "WjyQH9Vqjn8b",
    "yhxbY5zgU4nq",
    "ofiK7XDXVXM4",
    "0BL6oik5oS6B",
    "MRqVykRGWcyd",
    "FEGXX8lomM0F",
    "EPq_9XlyKoPy"
   ],
   "include_colab_link": true,
   "name": "Query.ipynb",
   "provenance": []
  },
  "kernelspec": {
   "display_name": "Python 3 (ipykernel)",
   "language": "python",
   "name": "python3"
  },
  "language_info": {
   "codemirror_mode": {
    "name": "ipython",
    "version": 3
   },
   "file_extension": ".py",
   "mimetype": "text/x-python",
   "name": "python",
   "nbconvert_exporter": "python",
   "pygments_lexer": "ipython3",
   "version": "3.9.7"
  }
 },
 "nbformat": 4,
 "nbformat_minor": 4
}
