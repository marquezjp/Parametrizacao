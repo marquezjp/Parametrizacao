{
  "nbformat": 4,
  "nbformat_minor": 0,
  "metadata": {
    "kernelspec": {
      "display_name": "Python 3",
      "language": "python",
      "name": "python3"
    },
    "language_info": {
      "codemirror_mode": {
        "name": "ipython",
        "version": 3
      },
      "file_extension": ".py",
      "mimetype": "text/x-python",
      "name": "python",
      "nbconvert_exporter": "python",
      "pygments_lexer": "ipython3",
      "version": "3.8.2"
    },
    "colab": {
      "name": "connectdb.ipynb",
      "provenance": [],
      "collapsed_sections": [],
      "include_colab_link": true
    }
  },
  "cells": [
    {
      "cell_type": "markdown",
      "metadata": {
        "id": "view-in-github",
        "colab_type": "text"
      },
      "source": [
        "<a href=\"https://colab.research.google.com/github/marquezjp/SQLToPandas/blob/main/Oracle/ConnectDb.ipynb\" target=\"_parent\"><img src=\"https://colab.research.google.com/assets/colab-badge.svg\" alt=\"Open In Colab\"/></a>"
      ]
    },
    {
      "cell_type": "markdown",
      "metadata": {
        "id": "I0mKT49nkoBw"
      },
      "source": [
        "# Exemplo de Conexão com o Banco de Dados Oracle"
      ]
    },
    {
      "cell_type": "code",
      "metadata": {
        "id": "mGxS0mVVkoB5"
      },
      "source": [
        "# Carrega a Biblioteca do Oracle\n",
        "import cx_Oracle"
      ],
      "execution_count": null,
      "outputs": []
    },
    {
      "cell_type": "code",
      "metadata": {
        "id": "7LpbZFL1koCS"
      },
      "source": [
        "# Cria a conexão\n",
        "conn = cx_Oracle.connect('SIGRHTRE/tr3Mcz@192.168.10.242/bdteste.financas.pref')"
      ],
      "execution_count": null,
      "outputs": []
    },
    {
      "cell_type": "code",
      "metadata": {
        "id": "-BGKvY28koCh",
        "outputId": "79d36d97-606a-44a6-ed6f-158301b44d0c"
      },
      "source": [
        "# Mostra da Versão\n",
        "print (conn.version)"
      ],
      "execution_count": null,
      "outputs": [
        {
          "output_type": "stream",
          "text": [
            "11.2.0.4.0\n"
          ],
          "name": "stdout"
        }
      ]
    },
    {
      "cell_type": "code",
      "metadata": {
        "id": "O_q9k-mmkoCv"
      },
      "source": [
        "# Encerra a conexão\n",
        "conn.close()"
      ],
      "execution_count": null,
      "outputs": []
    }
  ]
}