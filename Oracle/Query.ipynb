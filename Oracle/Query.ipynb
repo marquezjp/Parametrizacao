{
  "nbformat": 4,
  "nbformat_minor": 0,
  "metadata": {
    "colab": {
      "name": "Query.ipynb",
      "provenance": [],
      "collapsed_sections": [
        "rObVQzFtKgJe",
        "JjDmhIt3VFB9",
        "jzOvgGekVPA2",
        "oiEBdLo-VShP",
        "WjyQH9Vqjn8b",
        "yhxbY5zgU4nq",
        "ofiK7XDXVXM4",
        "0BL6oik5oS6B",
        "MRqVykRGWcyd",
        "FEGXX8lomM0F",
        "EPq_9XlyKoPy"
      ],
      "authorship_tag": "ABX9TyPZQ6salfnmtsW+oUxqzPeF",
      "include_colab_link": true
    },
    "kernelspec": {
      "name": "python3",
      "display_name": "Python 3"
    }
  },
  "cells": [
    {
      "cell_type": "markdown",
      "metadata": {
        "id": "view-in-github",
        "colab_type": "text"
      },
      "source": [
        "<a href=\"https://colab.research.google.com/github/marquezjp/SQLToPandas/blob/main/Oracle/Query.ipynb\" target=\"_parent\"><img src=\"https://colab.research.google.com/assets/colab-badge.svg\" alt=\"Open In Colab\"/></a>"
      ]
    },
    {
      "cell_type": "markdown",
      "metadata": {
        "id": "4-X1eyUziT8J"
      },
      "source": [
        "# Exportar uma Query do Oracle para um DataFrame"
      ]
    },
    {
      "cell_type": "markdown",
      "metadata": {
        "id": "rObVQzFtKgJe"
      },
      "source": [
        "## Preparar Ambiente"
      ]
    },
    {
      "cell_type": "markdown",
      "metadata": {
        "id": "JFCQNQbS69pN"
      },
      "source": [
        "Para instalar o [cx_Oracle](https://cx-oracle.readthedocs.io/en/latest/user_guide/installation.html)\r\n",
        "\r\n",
        "[Download](https://www.oracle.com/database/technologies/instant-client/winx64-64-downloads.html) do [Oracle Instant Client Basic Light](https://download.oracle.com/otn_software/nt/instantclient/19900/instantclient-basiclite-windows.x64-19.9.0.0.0dbru.zip)\r\n",
        "\r\n",
        "```\r\n",
        "!pip install cx_Oracle --upgrade\r\n",
        "```\r\n",
        "\r\n",
        "```\r\n",
        "cx_Oracle.init_oracle_client(lib_dir=r\"C:\\oracle\\instantclient\")\r\n",
        "```"
      ]
    },
    {
      "cell_type": "markdown",
      "metadata": {
        "id": "see_Laa3YhwP"
      },
      "source": [
        "Para instalar o XlsxWriter\r\n",
        "\r\n",
        "```\r\n",
        "!pip install -U XlsxWriter\r\n",
        "```"
      ]
    },
    {
      "cell_type": "code",
      "metadata": {
        "id": "zuHi7TO7iNsN"
      },
      "source": [
        "# Carrega a Biblioteca do Oracle, YAML e Pandas\n",
        "from datetime import date\n",
        "import csv\n",
        "import pandas as pd"
      ],
      "execution_count": 1,
      "outputs": []
    },
    {
      "cell_type": "code",
      "metadata": {
        "id": "o_Tj1FxvYVaO"
      },
      "source": [
        "import xlsxwriter"
      ],
      "execution_count": 2,
      "outputs": []
    },
    {
      "cell_type": "code",
      "metadata": {
        "id": "2ja1P2DSYaAH"
      },
      "source": [
        "import sqlite3\r\n",
        "import cx_Oracle\r\n",
        "from sqlalchemy.engine import create_engine"
      ],
      "execution_count": 3,
      "outputs": []
    },
    {
      "cell_type": "code",
      "metadata": {
        "colab": {
          "base_uri": "https://localhost:8080/"
        },
        "id": "yX1OeorAPGbv",
        "outputId": "095c675c-234f-4648-cf95-e886937f87f8"
      },
      "source": [
        "today = date.today().strftime(\"%d/%m/%Y\")\r\n",
        "print(\"Hoje é\", today)"
      ],
      "execution_count": 4,
      "outputs": [
        {
          "output_type": "stream",
          "text": [
            "Hoje é 30/12/2020\n"
          ],
          "name": "stdout"
        }
      ]
    },
    {
      "cell_type": "code",
      "metadata": {
        "id": "L20ouHXMuXR7",
        "colab": {
          "base_uri": "https://localhost:8080/"
        },
        "outputId": "d6b50b43-8631-444e-cfe2-bd1860f3e09d"
      },
      "source": [
        "!dir"
      ],
      "execution_count": 5,
      "outputs": [
        {
          "output_type": "stream",
          "text": [
            " O volume na unidade P ‚ Projetos\n",
            " O N£mero de S‚rie do Volume ‚ 54F7-87B9\n",
            "\n",
            " Pasta de P:\\projetos\\python\\Jupyter\n",
            "\n",
            "30/12/2020  13:35    <DIR>          .\n",
            "30/12/2020  13:35    <DIR>          ..\n",
            "22/05/2020  21:07    <DIR>          .vscode\n",
            "28/11/2020  16:49    <DIR>          CSS\n",
            "17/12/2020  11:24    <DIR>          Dados\n",
            "28/11/2020  16:48    <DIR>          Imagens\n",
            "21/12/2020  10:37    <DIR>          Oracle\n",
            "25/12/2020  10:52           613.149 SIGRH-MCZ - SCHEMA - 20201222.xlsx\n",
            "29/12/2020  15:16    <DIR>          SQLite\n",
            "28/11/2020  16:49    <DIR>          Templantes\n",
            "               1 arquivo(s)        613.149 bytes\n",
            "               9 pasta(s)   792.452.050.944 bytes dispon¡veis\n"
          ],
          "name": "stdout"
        }
      ]
    },
    {
      "cell_type": "markdown",
      "metadata": {
        "id": "tLgGR2m2KXL-"
      },
      "source": [
        "## Conexão via SQL Alchemy"
      ]
    },
    {
      "cell_type": "code",
      "metadata": {
        "id": "G1soGNw8a0NJ",
        "colab": {
          "base_uri": "https://localhost:8080/"
        },
        "outputId": "ba3a6429-9123-4e34-fdfc-ef630439ced2"
      },
      "source": [
        "# Cria a Conexão do Oracle\n",
        "oracleConfig = {\n",
        "    'dialect': 'oracle',\n",
        "    'sql_driver': 'cx_oracle',\n",
        "    'dsn_tns': {\n",
        "        'host': '192.168.10.247',\n",
        "        'service': 'sigrhprod.financas.pref',\n",
        "        'port': 1521},\n",
        "    'user': 'sigrhprd',\n",
        "    'password': 'prdM4c3i0'\n",
        "}\n",
        "\n",
        "dialeto = oracleConfig.get('dialect', 'oracle')\n",
        "sql_driver = oracleConfig.get('sql_driver', 'cx_oracle')\n",
        "\n",
        "dsn_tnsConfig = oracleConfig.get('dsn_tns', {'host': '', 'service': '', 'port': 1521})\n",
        "dsn_tns = cx_Oracle.makedsn(dsn_tnsConfig.get('host', '0.0.0.0'),\n",
        "                            dsn_tnsConfig.get('port', '1521'),\n",
        "                            service_name=dsn_tnsConfig.get('service', 'orcl'))\n",
        "\n",
        "user=oracleConfig.get('user', '')\n",
        "password=oracleConfig.get('password', '')\n",
        "\n",
        "conexaoOracle = create_engine(f'{dialeto}+{sql_driver}://{user}:{password}@{dsn_tns}')\n",
        "conexaoOracle"
      ],
      "execution_count": 6,
      "outputs": [
        {
          "output_type": "execute_result",
          "data": {
            "text/plain": [
              "Engine(oracle+cx_oracle://sigrhprd:***@(DESCRIPTION=(ADDRESS=(PROTOCOL=TCP)(HOST=192.168.10.247)(PORT=1521))(CONNECT_DATA=(SERVICE_NAME=sigrhprod.financas.pref))))"
            ]
          },
          "metadata": {
            "tags": []
          },
          "execution_count": 6
        }
      ]
    },
    {
      "cell_type": "code",
      "metadata": {
        "id": "SknI5dawdRnq",
        "colab": {
          "base_uri": "https://localhost:8080/"
        },
        "outputId": "0faf75a7-821b-477f-fffd-ca746b5b4b3d"
      },
      "source": [
        "# Cria a Conexão do SQLite\n",
        "sqliteConfig = {\n",
        "    'dialect': 'sqlite',\n",
        "    'dbworkpath': 'SQLite',\n",
        "    'dbfilename': 'funcional',\n",
        "    'dbext': 'sqlite'\n",
        "}\n",
        "\n",
        "dialeto = sqliteConfig.get('dialect', 'sqlite')\n",
        "\n",
        "dbworkpath = sqliteConfig.get('dbworkpath', '')\n",
        "dbfilename = sqliteConfig.get('dbfilename', '')\n",
        "dbext = sqliteConfig.get('dbext', '')\n",
        "dburl = f'/{dbworkpath}/{dbfilename}.{dbext}' if dbfilename else ''\n",
        "\n",
        "conexaoSQLite = create_engine(f'{dialeto}://{dburl}', echo=False)\n",
        "conexaoSQLite"
      ],
      "execution_count": 7,
      "outputs": [
        {
          "output_type": "execute_result",
          "data": {
            "text/plain": [
              "Engine(sqlite:///SQLite/funcional.sqlite)"
            ]
          },
          "metadata": {
            "tags": []
          },
          "execution_count": 7
        }
      ]
    },
    {
      "cell_type": "markdown",
      "metadata": {
        "id": "4648yevAKNUn"
      },
      "source": [
        "## Consulta SQL"
      ]
    },
    {
      "cell_type": "markdown",
      "metadata": {
        "id": "JjDmhIt3VFB9"
      },
      "source": [
        "### Consultar dos Campos das Tabelas do Modelo de Dados do SIGRH"
      ]
    },
    {
      "cell_type": "code",
      "metadata": {
        "id": "s7pn8b3L9nX4"
      },
      "source": [
        "# Consulta dos Campos das Tabelas do Modelo de Dados do SIGRH\r\n",
        "SQL = '''\r\n",
        "select lower(substr(table_name,1,4)) as SubSystem, lower(table_name) as TableName, lower(column_name) as ColumnName\r\n",
        "from user_tab_columns\r\n",
        "'''"
      ],
      "execution_count": null,
      "outputs": []
    },
    {
      "cell_type": "markdown",
      "metadata": {
        "id": "rl5ZXeUvWo10"
      },
      "source": [
        "### Consultar Servidores Ativos em uma Referencia"
      ]
    },
    {
      "cell_type": "code",
      "metadata": {
        "id": "UCljYiAWWxbQ"
      },
      "source": [
        "# Consulta Servidores Ativos em uma Referencia\r\n",
        "Referencia = '202003'\r\n",
        "dataInicioReferencia = f'01-{Referencia[4:6]}-{Referencia[0:4]}'\r\n",
        "SQL = f'''\r\n",
        "select  '{Referencia}' as MesAno,\r\n",
        "        o.sgorgao as OrgaoFolha,\r\n",
        "        p.nmpessoa as Nome,\r\n",
        "        lpad(v.numatricula, 7, 0)||'-'||v.nudvmatricula as Matricula,\r\n",
        "        p.nucpf as CPF\r\n",
        "\r\n",
        "from ecadvinculo v\r\n",
        "inner join ecadpessoa p on p.cdpessoa = v.cdpessoa\r\n",
        "inner join vcadorgao o on o.cdorgao = v.cdorgao \r\n",
        "inner join (\r\n",
        "    select p.nucpf as nucpf, count(*) as vinculos\r\n",
        "    from ecadvinculo v\r\n",
        "    inner join ecadpessoa p on p.cdpessoa = v.cdpessoa\r\n",
        "    where v.flanulado = 'N'\r\n",
        "      and (v.dtadmissao < last_day('{dataInicioReferencia}') + 1)\r\n",
        "      and (v.dtdesligamento is null or v.dtdesligamento > last_day('{dataInicioReferencia}'))\r\n",
        "    group by p.nucpf\r\n",
        "    having count(*) > 1\r\n",
        ") d on d.nucpf = p.nucpf\r\n",
        "order by p.nucpf\r\n",
        "'''"
      ],
      "execution_count": null,
      "outputs": []
    },
    {
      "cell_type": "markdown",
      "metadata": {
        "id": "WXR6tpxTglpe"
      },
      "source": [
        "### Consultar Servidores Ativos com Campos Selecionados"
      ]
    },
    {
      "cell_type": "code",
      "metadata": {
        "id": "90U7uc4sgtFa"
      },
      "source": [
        "# Consulta Servidores Ativos com Campos Selecionados\r\n",
        "SQL = '''\r\n",
        "select Orgao, Matricula, CPF, Nome, FoneResidencial, FoneComercial, Celular, eMail1, eMail2, eMail3, Situacao, Regimetrabalho, RelacaoTrabalho, AfastadoSemRemuneracao, Relacao, Classificacao, Observacao\r\n",
        "from (\r\n",
        "select\r\n",
        " o.sgorgao as Orgao,\r\n",
        " lpad(v.numatricula || '-' || nudvmatricula,9,0) as Matricula,\r\n",
        " lpad(p.nucpf, 11, 0) CPF,\r\n",
        " p.nmpessoa as Nome,\r\n",
        " DECODE( NVL(p.nutelefoneres, 0), 0, null, '(' || NVL(p.nudddres,'00') || ')' || p.nutelefoneres) as FoneResidencial,\r\n",
        " DECODE( NVL(p.nutelefonecont, 0), 0, null, '(' || NVL(p.nudddcont,'00') || ')' || p.nutelefonecont) as FoneComercial,\r\n",
        " DECODE( NVL(p.nucelular, 0), 0, null, '(' || NVL(p.nudddcel,'00') || ')' || p.nucelular) as Celular,\r\n",
        " upper(p.deemail) as eMail1,\r\n",
        " upper(p.deemailalternativo1) as eMail2,\r\n",
        " upper(p.deemailalternativo2) as eMail3,\r\n",
        " p.dtnascimento as DataNascimento,\r\n",
        " trunc((sysdate - p.dtnascimento) / 365) as Idade,\r\n",
        " p.flsexo as Sexo,\r\n",
        " v.dtadmissao as DataAdmissao,\r\n",
        " v.dtinclusao as DataInclusao,\r\n",
        " v.dtdesligamento as DataDesligamento,\r\n",
        " \r\n",
        " case\r\n",
        "  when exists (select apo.cdvinculo from epvdconcessaoaposentadoria apo\r\n",
        "                where apo.flativa = 'S' and apo.flanulado = 'N'\r\n",
        "                  and apo.dtinicioaposentadoria < last_day(sysdate) + 1\r\n",
        "                  and (apo.dtfimaposentadoria is null or apo.dtfimaposentadoria > last_day(sysdate))\r\n",
        "                  and apo.cdvinculo = v.cdvinculo\r\n",
        "               union\r\n",
        "               select pen.cdvinculo from epvdhistpensaoprevidenciaria pen\r\n",
        "                where pen.flanulado = 'N' and pen.dtinicio < last_day(sysdate) + 1\r\n",
        "                  and (pen.dtfim is null or pen.dtfim > last_day(sysdate))\r\n",
        "                  and pen.cdvinculo = v.cdvinculo)\r\n",
        "  then 'INATIVO'\r\n",
        "  else 'ATIVO'\r\n",
        " end as Situacao,\r\n",
        "    \r\n",
        " upper(rtr.nmregimetrabalho) as RegimeTrabalho,\r\n",
        " upper(rt.nmrelacaotrabalho) as RelacaoTrabalho,\r\n",
        " upper(rp.nmregimeprevidenciario) RegimePrevidenciario,\r\n",
        " upper(tr.nmtiporegimeproprioprev) RegimePrevidenciarioProprio,\r\n",
        " \r\n",
        " u.nmunidadeorganizacional as UnidadeOrganizacional,\r\n",
        " cc.nucentrocusto CodigoCentroCusto,\r\n",
        " cc.nmcentrocusto CentroCusto,\r\n",
        "\r\n",
        " cr.deitemcarreira as Carreira,\r\n",
        " c.deitemcarreira as CargoEfetivo,\r\n",
        " nr.nugruposalarial || cef.nunivelpagamento || cef.nureferenciapagamento as NivelAtual,\r\n",
        " \r\n",
        " d.decargocomissionado as CargoComissionado,\r\n",
        " ecc.nureferencia || ecc.nunivel as NivelComissionado,\r\n",
        "\r\n",
        " case when exists (select a.cdvinculo from eafaafastamentovinculo a\r\n",
        "                   left join eafamotivoafasttemporario t on t.cdmotivoafasttemporario = a.cdmotivoafasttemporario\r\n",
        "\t\t\t\t   left join eafahistmotivoafasttemp ht on ht.cdmotivoafasttemporario = t.cdmotivoafasttemporario\r\n",
        "\t\t\t\t   where a.flanulado = 'N'\r\n",
        "\t\t\t\t     and a.dtinicio < last_day(sysdate) + 1\r\n",
        "\t\t\t\t     and (a.dtfim is null or a.dtfim > last_day(sysdate))\r\n",
        "\t\t\t\t     and (a.fltipoafastamento = 'D' or (a.fltipoafastamento = 'T' and ht.flremunerado = 'N'))\r\n",
        "\t\t\t\t     and a.cdvinculo = v.cdvinculo\r\n",
        "\t\t\t\t  )\r\n",
        "\t  then 'SIM'\r\n",
        "\t  else 'NAO'\r\n",
        " end as AfastadoSemRemuneracao,\r\n",
        "\r\n",
        " decode(mdf.demotivoafastdefinitivo, null, mtp.demotivoafasttemporario, mdf.demotivoafastdefinitivo) Afastamento,\r\n",
        "\r\n",
        " case capa.sgtipocredito\r\n",
        "  when 'FI' then 'FUNDO FINANCEIRO'\r\n",
        "  when 'PR' then 'FUNDO PREVIDENCIARIO'\r\n",
        "  when 'GE' then 'GERAL - COMISSIONADOS'\r\n",
        "  when 'GO' then 'GERAL - CLT/OUTROS'\r\n",
        "  else ' '\r\n",
        " end Fundo,\r\n",
        " cc.sgarquivocredito as SiglaArquivoCredito,\r\n",
        " case capa.cdtipogeracaocredito when 1 then 'GERAL' when 2 then 'COMISSIONADOS' else '' end as TipoGeracaoCredito,\r\n",
        " capa.nufaixacredito as FaixaCredito,\r\n",
        " \r\n",
        " case\r\n",
        "  when (select count(*) from ecadhistcargoefetivo cef \r\n",
        "         where cef.cdvinculo = v.cdvinculo and cef.cdrelacaotrabalho = 5\r\n",
        "           and cef.flanulado = 'N'\r\n",
        "\t\t   and cef.dtinicio < last_day(sysdate) + 1\r\n",
        "\t       and (cef.dtfim is null or cef.dtfim > last_day(sysdate))\r\n",
        "           and not exists (select 1 from ecadhistcargocom cco\r\n",
        "                            where cco.cdvinculo = v.cdvinculo\r\n",
        "                              and cco.flanulado = 'N'\r\n",
        "\t\t\t\t\t\t\t  and cco.dtinicio < last_day(sysdate) + 1\r\n",
        "\t\t\t\t\t\t\t  and (cco.dtfim is null or cco.dtfim > last_day(sysdate)))\r\n",
        "       ) > 0 then 'EFETIVO'\r\n",
        "  when (select count(*) from ecadhistcargoefetivo cef \r\n",
        "\t    where cef.cdvinculo = v.cdvinculo and cef.cdrelacaotrabalho = 5\r\n",
        "\t\t  and cef.flanulado = 'N'\r\n",
        "\t\t  and cef.dtinicio < last_day(sysdate) + 1\r\n",
        "\t\t  and (cef.dtfim is null or cef.dtfim > last_day(sysdate)) \r\n",
        "\t\t  and exists(select 1 from ecadhistcargocom cco\r\n",
        "\t\t \t\t\t  where cco.cdvinculo = v.cdvinculo\r\n",
        "\t\t\t\t\t    and cco.flanulado = 'N'\r\n",
        "\t\t\t\t\t    and cco.dtinicio < last_day(sysdate) + 1\r\n",
        "\t\t\t\t\t    and (cco.dtfim is null or cco.dtfim > last_day(sysdate)))\r\n",
        "       ) > 0 then 'EFETIVO + COMISSIONADO'\r\n",
        "  when (select count(*) from ecadhistcargoefetivo cef \r\n",
        "\t\t where cef.cdvinculo = v.cdvinculo and cef.cdrelacaotrabalho = 10\r\n",
        "\t\t   and cef.flanulado = 'N'\r\n",
        "\t\t   and cef.dtinicio < last_day(sysdate) + 1\r\n",
        "\t\t   and (cef.dtfim is null or cef.dtfim > last_day(sysdate))\r\n",
        "\t\t   and not exists (select 1 from ecadhistcargocom cco\r\n",
        "\t\t\t\t\t\t    where cco.cdvinculo = v.cdvinculo\r\n",
        "\t\t\t\t\t\t\t  and cco.flanulado = 'N'\r\n",
        "\t\t\t\t\t\t\t  and cco.dtinicio < last_day(sysdate) + 1\r\n",
        "\t\t\t\t\t\t\t  and (cco.dtfim is null or cco.dtfim > last_day(sysdate)))\r\n",
        "       ) > 0 then 'DISPOSIÇÃO'\r\n",
        "  when (select count(*) from ecadhistcargoefetivo cef \r\n",
        "\t     where cef.cdvinculo = v.cdvinculo and cef.cdrelacaotrabalho = 10\r\n",
        "\t\t   and cef.flanulado = 'N'\r\n",
        "\t\t   and cef.dtinicio < last_day(sysdate) + 1\r\n",
        "\t\t   and (cef.dtfim is null or cef.dtfim > last_day(sysdate))\t  \r\n",
        "\t\t   and exists(select 1 from ecadhistcargocom cco\r\n",
        "\t\t\t\t\t   where cco.cdvinculo = v.cdvinculo\r\n",
        "\t\t\t\t\t     and cco.flanulado = 'N'\r\n",
        "\t\t\t\t\t     and cco.dtinicio < last_day(sysdate) + 1\r\n",
        "\t\t\t\t\t     and (cco.dtfim is null or cco.dtfim > last_day(sysdate)))\r\n",
        "       ) > 0 then 'DISPOSIÇÃO + COMISSIONADO'\r\n",
        "  when (select count(*) from ecadhistcargocom cco\r\n",
        "\t     where cco.cdvinculo = v.cdvinculo \r\n",
        "\t\t   and cco.flanulado = 'N'\r\n",
        "\t\t   and cco.dtinicio < last_day(sysdate) + 1\r\n",
        "\t\t   and (cco.dtfim is null or cco.dtfim > last_day(sysdate))\r\n",
        "       ) > 0 then 'COMISSIONADO PURO'\r\n",
        "  when (select count(*) from ecadhistfuncaochefia fuc \r\n",
        "\t     where fuc.cdvinculo = v.cdvinculo \r\n",
        "\t\t   and fuc.flanulado = 'N'\r\n",
        "\t\t   and fuc.dtinicio < last_day(sysdate) + 1\r\n",
        "\t\t   and (fuc.dtfim is null or fuc.dtfim > last_day(sysdate)) \r\n",
        "\t\t   and not exists (select 1 from ecadhistcargoefetivo cef\r\n",
        "\t\t\t\t\t\t    where cef.cdvinculo = v.cdvinculo\r\n",
        "\t\t\t\t\t\t\t  and cef.flanulado = 'N'\r\n",
        "\t\t\t\t\t\t\t  and cef.dtinicio < last_day(sysdate) + 1\r\n",
        "\t\t\t\t\t\t\t  and (cef.dtfim is null or cef.dtfim > last_day(sysdate)))\r\n",
        "\t\t   and not exists (select 1 from ecadhistcargocom cco\r\n",
        "\t\t\t\t\t\t    where cco.cdvinculo = v.cdvinculo\r\n",
        "\t\t\t\t\t\t\t  and cco.flanulado = 'N'\r\n",
        "\t\t\t\t\t\t\t  and cco.dtinicio < last_day(sysdate) + 1\r\n",
        "\t\t\t\t\t\t\t  and (cco.dtfim is null or cco.dtfim > last_day(sysdate)))\r\n",
        "\t\t   and not exists (select 1 from epvdconcessaoaposentadoria apo\r\n",
        "\t\t\t\t\t\t    where apo.cdvinculo = v.cdvinculo\r\n",
        "\t\t\t\t\t\t\t  and apo.flanulado = 'N' and apo.flativa = 'S'\r\n",
        "\t\t\t\t\t\t\t  and apo.dtinicioaposentadoria < last_day(sysdate) + 1\r\n",
        "\t\t\t\t\t\t\t  and (apo.dtfimaposentadoria is null or apo.dtfimaposentadoria > last_day(sysdate)))\r\n",
        "       ) > 0 then 'APENAS FUNCAO GRATIFICADA'\r\n",
        "  when (select count(*) from ecadhistcargoefetivo cef\r\n",
        "\t\t where cef.cdvinculo = v.cdvinculo and cef.cdrelacaotrabalho = 3\r\n",
        "\t\t   and cef.flanulado = 'N'\r\n",
        "\t\t   and cef.dtinicio < last_day(sysdate) + 1\r\n",
        "\t\t   and (cef.dtfim is null or cef.dtfim > last_day(sysdate))\r\n",
        "       ) > 0 then 'ACT' \r\n",
        "  when (select count(*) from ecadhistestagio est\r\n",
        "\t     where est.cdvinculoestagio = v.cdvinculo \r\n",
        "\t\t   and est.flanulado = 'N'\r\n",
        "\t\t   and est.dtinicio < last_day(sysdate) + 1\r\n",
        "\t\t   and (est.dtfim is null or est.dtfim > last_day(sysdate))\r\n",
        "       ) > 0 then 'ESTAGIÁRIO'\r\n",
        "  when (select count(*) from epvdconcessaoaposentadoria apo\r\n",
        "\t     where apo.cdvinculo = v.cdvinculo and apo.flativa = 'S'\r\n",
        "\t\t   and apo.flanulado = 'N'\r\n",
        "\t\t   and apo.dtinicioaposentadoria < last_day(sysdate) + 1\r\n",
        "\t\t   and (apo.dtfimaposentadoria is null or apo.dtfimaposentadoria > last_day(sysdate))\r\n",
        "       ) > 0 then 'APOSENTADO'\r\n",
        "  when (select count(*) from epvdhistpensaoprevidenciaria pen\r\n",
        "\t     where pen.cdvinculo = v.cdvinculo \r\n",
        "\t\t   and pen.flanulado = 'N'\r\n",
        "\t\t   and pen.dtinicio < last_day(sysdate) + 1\r\n",
        "\t\t   and (pen.dtfim is null or pen.dtfim > last_day(sysdate))\r\n",
        "       ) > 0 then 'PENSÃO PREVIDENCIÁRIA'\r\n",
        "  when (select count(*) from epvdhistpensaonaoprev penesp\r\n",
        "\t     where penesp.cdvinculobeneficiario = v.cdvinculo \r\n",
        "\t\t   and penesp.flanulado = 'N'\r\n",
        "\t\t   and penesp.dtinicio < last_day(sysdate) + 1\r\n",
        "\t\t   and (penesp.dtfim is null or penesp.dtfim > last_day(sysdate))\r\n",
        "       ) > 0 then 'PENSÃO NÃO PREVIDENCIÁRIA' \r\n",
        "  else ' '\r\n",
        " end Relacao,\r\n",
        "\r\n",
        " case\r\n",
        "  when pp.cdhistpensaoprevidenciaria is not null then 'PENSÃO PREVIDENCIÁRIA'\r\n",
        "  when pnp.cdhistpensaonaoprev is not null then 'PENSÃO NÃO PREVIDENCIÁRIA'\r\n",
        "  when capa.flativo = 'N' then 'INATIVO-APOSENTADO'\r\n",
        "  when capa.cdregimetrabalho = 1 then 'CLT'\r\n",
        "  when capa.cdrelacaotrabalho = 4 then 'AGENTE POLÍTICO'\r\n",
        "  when cef.cdhistcargoefetivo is not null and capa.cdcargocomissionado is not null then 'EFETIVO + COMISSIONADO'  \r\n",
        "  when capa.cdrelacaotrabalho = 3  then 'ACT'\r\n",
        "  when capa.cdrelacaotrabalho = 5  then 'EFETIVO'\r\n",
        "  when capa.cdrelacaotrabalho = 10 then 'EFETIVO À DISPOSICAO'\r\n",
        "  when capa.cdrelacaotrabalho = 6  then 'COMISSIONADO'\r\n",
        "  when capa.cdrelacaotrabalho = 2  then 'ESTAGIARIO'\r\n",
        "  when cef.cdhistcargoefetivo is not null then 'EFETIVO' \r\n",
        "  else 'W-INDEFINIDO'\r\n",
        " end as Classificacao,\r\n",
        "\r\n",
        " capa.vlproventos as Proventos,\r\n",
        " capa.vldescontos as Descontos,\r\n",
        " nvl(capa.vlproventos, 0) - nvl(capa.vldescontos, 0) as Liquido,\r\n",
        " \r\n",
        " case\r\n",
        "  when capa.cdvinculo is null                then 'Sem Pagamento'\r\n",
        "  when nvl(v.cdcentrocusto, 0) = 0           then 'Centro de custo nulo no vinculo'\r\n",
        "  when nvl(capa.cdcentrocusto, 0) = 0        then 'Centro de custo nulo na capa do pagamento'\r\n",
        "  when capa.sgtipocredito is null            then 'Sigla do tipo de credito nula na capa do pagamento'\r\n",
        "  when capa.flativo is null                  then 'Nao ha indicativo de ativou ou inativo na capa do pagamento'\r\n",
        "  when cc.sgarquivocredito is null           then 'Sigla do arquvio de credito nula na capa do pagamento'\r\n",
        "  when nvl(capa.CdTipoGeracaoCredito, 0) = 0 then 'Tipo de geracao de credito nulo na capa do pagamento' \r\n",
        "  when nvl(capa.NuFaixaCredito, 0) = 0       then 'Fixa de credito nula na capa do pagamento' \r\n",
        "  else null\r\n",
        " end Observacao\r\n",
        "\r\n",
        "from ecadvinculo v\r\n",
        "inner join vcadorgao o on o.cdorgao = v.cdorgao \r\n",
        "inner join ecadpessoa p on p.cdpessoa = v.cdpessoa\r\n",
        "\r\n",
        "left join ecadhistcargoefetivo cef on cef.cdvinculo = v.cdvinculo and cef.flanulado = 'N' and cef.flprincipal = 'S'\r\n",
        "      and (cef.dtinicio < last_day(sysdate) + 1) and (cef.dtfim is null or cef.dtfim > last_day(sysdate))\r\n",
        "left join ecadhistnivelrefcef nr on nr.cdhistcargoefetivo = cef.cdhistcargoefetivo and nr.flanulado = 'N'\r\n",
        "      and (nr.dtinicio < last_day(sysdate) + 1) and (nr.dtfim is null or nr.dtfim > last_day(sysdate))\r\n",
        "left join ecadestruturacarreira es on es.cdestruturacarreira = cef.cdestruturacarreira\r\n",
        "left join ecaditemcarreira c on c.cditemcarreira = es.cditemcarreira\r\n",
        "left join ecadestruturacarreira cp on cp.cdestruturacarreira = es.cdestruturacarreirapai\r\n",
        "left join ecaditemcarreira cr on cr.cditemcarreira = cp.cditemcarreira\r\n",
        " \r\n",
        "left join ecadhistcargocom ecc on ecc.cdvinculo = v.cdvinculo and ecc.flanulado = 'N'\r\n",
        "      and (ecc.dtinicio < last_day(sysdate) + 1) and (ecc.dtfim is null or ecc.dtfim > last_day(sysdate))\r\n",
        "left join ecadcargocomissionado cco on cco.cdcargocomissionado = ecc.cdcargocomissionado\r\n",
        "left join ecadevolucaocargocomissionado d on d.cdcargocomissionado = ecc.cdcargocomissionado and d.flanulado = 'N'\r\n",
        "      and (d.dtiniciovigencia < last_day(sysdate) + 1) and (d.dtfimvigencia is null or d.dtfimvigencia > last_day(sysdate))\r\n",
        "\r\n",
        "left join ecadregimetrabalho rtr on rtr.cdregimetrabalho = v.cdregimetrabalho\r\n",
        "left join ecadrelacaotrabalho rt on rt.cdrelacaotrabalho = cef.cdrelacaotrabalho\r\n",
        "left join ecadregimeprevidenciario rp on rp.cdregimeprevidenciario = v.cdregimeprevidenciario\r\n",
        "left join ecadtiporegimeproprioprev tr on tr.cdtiporegimeproprioprev = v.cdtiporegimeproprioprev\r\n",
        "\r\n",
        "left join vcadunidadeorganizacional u on u.cdunidadeorganizacional = v.cdunidadeorganizacional\r\n",
        "      and (u.dtiniciovigencia < last_day(sysdate) + 1) and (u.dtfimvigencia is null or u.dtfimvigencia > last_day(sysdate))\r\n",
        "\t  \r\n",
        "left join ecadcentrocusto cc on cc.cdcentrocusto = v.cdcentrocusto\r\n",
        "\r\n",
        "left join epvdhistpensaoprevidenciaria pp on pp.cdvinculo = v.cdvinculo and pp.flanulado = 'N'\r\n",
        "left join epvdhistpensaonaoprev pnp on pnp.cdvinculobeneficiario = v.cdvinculo and pnp.flanulado = 'N'\r\n",
        "\r\n",
        "left join epagfolhapagamento f on f.cdorgao = v.cdorgao and f.flcalculodefinitivo = 'S'\r\n",
        "      and f.nuanoreferencia = extract(year from sysdate) and f.numesreferencia = extract(month from sysdate)\r\n",
        "      and f.cdtipofolhapagamento = '2' and f.cdtipocalculo = '1' and f.nusequencialfolha = 1\r\n",
        "left join epagcapahistrubricavinculo capa on capa.cdfolhapagamento = f.cdfolhapagamento and capa.cdvinculo = v.cdvinculo\r\n",
        "\r\n",
        "left  join eafahistmotivoafastdef mdf on mdf.cdmotivoafastdefinitivo = capa.cdmotivoafastdefinitivo and mdf.dtfimvigencia is null\r\n",
        "left  join eafahistmotivoafasttemp mtp on mtp.cdmotivoafasttemporario = capa.cdmotivoafasttemporario and mtp.dtfimvigencia is null\r\n",
        "\r\n",
        "where v.flanulado = 'N' and (v.dtdesligamento is null or v.dtdesligamento > last_day(sysdate))\r\n",
        ")\r\n",
        "where Relacao in ('EFETIVO + COMISSIONADO', 'COMISSIONADO PURO', 'DISPOSIÇÃO + COMISSIONADO')\r\n",
        "order by 1, 4\r\n",
        "'''"
      ],
      "execution_count": 9,
      "outputs": []
    },
    {
      "cell_type": "markdown",
      "metadata": {
        "id": "jzOvgGekVPA2"
      },
      "source": [
        "### Consultar Dados Funcionais dos Servidores"
      ]
    },
    {
      "cell_type": "code",
      "metadata": {
        "id": "qUKx1lMbOLzR"
      },
      "source": [
        "# Consulta Dados Funcionais dos Servidores\r\n",
        "SQL = '''\r\n",
        "select\r\n",
        " o.sgorgao as Orgao,\r\n",
        " lpad(v.numatricula || '-' || nudvmatricula,9,0) as Matricula,\r\n",
        " lpad(p.nucpf, 11, 0) CPF,\r\n",
        " p.nmpessoa as Nome,\r\n",
        " p.dtnascimento as DataNascimento,\r\n",
        " trunc((sysdate - p.dtnascimento) / 365) as Idade,\r\n",
        " p.flsexo as Sexo,\r\n",
        " v.dtadmissao as DataAdmissao,\r\n",
        " v.dtinclusao as DataInclusao,\r\n",
        " v.dtdesligamento as DataDesligamento,\r\n",
        " \r\n",
        " case\r\n",
        "  when exists (select apo.cdvinculo from epvdconcessaoaposentadoria apo\r\n",
        "                where apo.flativa = 'S' and apo.flanulado = 'N'\r\n",
        "                  and apo.dtinicioaposentadoria < last_day(sysdate) + 1\r\n",
        "                  and (apo.dtfimaposentadoria is null or apo.dtfimaposentadoria > last_day(sysdate))\r\n",
        "                  and apo.cdvinculo = v.cdvinculo\r\n",
        "               union\r\n",
        "               select pen.cdvinculo from epvdhistpensaoprevidenciaria pen\r\n",
        "                where pen.flanulado = 'N' and pen.dtinicio < last_day(sysdate) + 1\r\n",
        "                  and (pen.dtfim is null or pen.dtfim > last_day(sysdate))\r\n",
        "                  and pen.cdvinculo = v.cdvinculo)\r\n",
        "  then 'INATIVO'\r\n",
        "  else 'ATIVO'\r\n",
        " end as Situacao,\r\n",
        "    \r\n",
        " upper(rtr.nmregimetrabalho) as RegimeTrabalho,\r\n",
        " upper(rt.nmrelacaotrabalho) as RelacaoTrabalho,\r\n",
        " upper(rp.nmregimeprevidenciario) RegimePrevidenciario,\r\n",
        " upper(tr.nmtiporegimeproprioprev) RegimePrevidenciarioProprio,\r\n",
        " \r\n",
        " u.nmunidadeorganizacional as UnidadeOrganizacional,\r\n",
        " cc.nucentrocusto CodigoCentroCusto,\r\n",
        " cc.nmcentrocusto CentroCusto,\r\n",
        "\r\n",
        " cr.deitemcarreira as Carreira,\r\n",
        " c.deitemcarreira as CargoEfetivo,\r\n",
        " nr.nugruposalarial || cef.nunivelpagamento || cef.nureferenciapagamento as NivelAtual,\r\n",
        " \r\n",
        " d.decargocomissionado as CargoComissionado,\r\n",
        " ecc.nureferencia || ecc.nunivel as NivelComissionado,\r\n",
        "\r\n",
        " case when exists (select a.cdvinculo from eafaafastamentovinculo a\r\n",
        "                   left join eafamotivoafasttemporario t on t.cdmotivoafasttemporario = a.cdmotivoafasttemporario\r\n",
        "\t\t\t\t   left join eafahistmotivoafasttemp ht on ht.cdmotivoafasttemporario = t.cdmotivoafasttemporario\r\n",
        "\t\t\t\t   where a.flanulado = 'N'\r\n",
        "\t\t\t\t     and a.dtinicio < last_day(sysdate) + 1\r\n",
        "\t\t\t\t     and (a.dtfim is null or a.dtfim > last_day(sysdate))\r\n",
        "\t\t\t\t     and (a.fltipoafastamento = 'D' or (a.fltipoafastamento = 'T' and ht.flremunerado = 'N'))\r\n",
        "\t\t\t\t     and a.cdvinculo = v.cdvinculo\r\n",
        "\t\t\t\t  )\r\n",
        "\t  then 'SIM'\r\n",
        "\t  else 'NAO'\r\n",
        " end as AfastadoSemRemuneracao,\r\n",
        "\r\n",
        " decode(mdf.demotivoafastdefinitivo, null, mtp.demotivoafasttemporario, mdf.demotivoafastdefinitivo) Afastamento,\r\n",
        "\r\n",
        " case capa.sgtipocredito\r\n",
        "  when 'FI' then 'FUNDO FINANCEIRO'\r\n",
        "  when 'PR' then 'FUNDO PREVIDENCIARIO'\r\n",
        "  when 'GE' then 'GERAL - COMISSIONADOS'\r\n",
        "  when 'GO' then 'GERAL - CLT/OUTROS'\r\n",
        "  else ' '\r\n",
        " end Fundo,\r\n",
        " cc.sgarquivocredito as SiglaArquivoCredito,\r\n",
        " case capa.cdtipogeracaocredito when 1 then 'GERAL' when 2 then 'COMISSIONADOS' else '' end as TipoGeracaoCredito,\r\n",
        " capa.nufaixacredito as FaixaCredito,\r\n",
        " \r\n",
        " case\r\n",
        "  when (select count(*) from ecadhistcargoefetivo cef \r\n",
        "         where cef.cdvinculo = v.cdvinculo and cef.cdrelacaotrabalho = 5\r\n",
        "           and cef.flanulado = 'N'\r\n",
        "\t\t   and cef.dtinicio < last_day(sysdate) + 1\r\n",
        "\t       and (cef.dtfim is null or cef.dtfim > last_day(sysdate))\r\n",
        "           and not exists (select 1 from ecadhistcargocom cco\r\n",
        "                            where cco.cdvinculo = v.cdvinculo\r\n",
        "                              and cco.flanulado = 'N'\r\n",
        "\t\t\t\t\t\t\t  and cco.dtinicio < last_day(sysdate) + 1\r\n",
        "\t\t\t\t\t\t\t  and (cco.dtfim is null or cco.dtfim > last_day(sysdate)))\r\n",
        "       ) > 0 then 'EFETIVO'\r\n",
        "  when (select count(*) from ecadhistcargoefetivo cef \r\n",
        "\t    where cef.cdvinculo = v.cdvinculo and cef.cdrelacaotrabalho = 5\r\n",
        "\t\t  and cef.flanulado = 'N'\r\n",
        "\t\t  and cef.dtinicio < last_day(sysdate) + 1\r\n",
        "\t\t  and (cef.dtfim is null or cef.dtfim > last_day(sysdate)) \r\n",
        "\t\t  and exists(select 1 from ecadhistcargocom cco\r\n",
        "\t\t \t\t\t  where cco.cdvinculo = v.cdvinculo\r\n",
        "\t\t\t\t\t    and cco.flanulado = 'N'\r\n",
        "\t\t\t\t\t    and cco.dtinicio < last_day(sysdate) + 1\r\n",
        "\t\t\t\t\t    and (cco.dtfim is null or cco.dtfim > last_day(sysdate)))\r\n",
        "       ) > 0 then 'EFETIVO + COMISSIONADO'\r\n",
        "  when (select count(*) from ecadhistcargoefetivo cef \r\n",
        "\t\t where cef.cdvinculo = v.cdvinculo and cef.cdrelacaotrabalho = 10\r\n",
        "\t\t   and cef.flanulado = 'N'\r\n",
        "\t\t   and cef.dtinicio < last_day(sysdate) + 1\r\n",
        "\t\t   and (cef.dtfim is null or cef.dtfim > last_day(sysdate))\r\n",
        "\t\t   and not exists (select 1 from ecadhistcargocom cco\r\n",
        "\t\t\t\t\t\t    where cco.cdvinculo = v.cdvinculo\r\n",
        "\t\t\t\t\t\t\t  and cco.flanulado = 'N'\r\n",
        "\t\t\t\t\t\t\t  and cco.dtinicio < last_day(sysdate) + 1\r\n",
        "\t\t\t\t\t\t\t  and (cco.dtfim is null or cco.dtfim > last_day(sysdate)))\r\n",
        "       ) > 0 then 'DISPOSIÇÃO'\r\n",
        "  when (select count(*) from ecadhistcargoefetivo cef \r\n",
        "\t     where cef.cdvinculo = v.cdvinculo and cef.cdrelacaotrabalho = 10\r\n",
        "\t\t   and cef.flanulado = 'N'\r\n",
        "\t\t   and cef.dtinicio < last_day(sysdate) + 1\r\n",
        "\t\t   and (cef.dtfim is null or cef.dtfim > last_day(sysdate))\t  \r\n",
        "\t\t   and exists(select 1 from ecadhistcargocom cco\r\n",
        "\t\t\t\t\t   where cco.cdvinculo = v.cdvinculo\r\n",
        "\t\t\t\t\t     and cco.flanulado = 'N'\r\n",
        "\t\t\t\t\t     and cco.dtinicio < last_day(sysdate) + 1\r\n",
        "\t\t\t\t\t     and (cco.dtfim is null or cco.dtfim > last_day(sysdate)))\r\n",
        "       ) > 0 then 'DISPOSIÇÃO + COMISSIONADO'\r\n",
        "  when (select count(*) from ecadhistcargocom cco\r\n",
        "\t     where cco.cdvinculo = v.cdvinculo \r\n",
        "\t\t   and cco.flanulado = 'N'\r\n",
        "\t\t   and cco.dtinicio < last_day(sysdate) + 1\r\n",
        "\t\t   and (cco.dtfim is null or cco.dtfim > last_day(sysdate))\r\n",
        "       ) > 0 then 'COMISSIONADO PURO'\r\n",
        "  when (select count(*) from ecadhistfuncaochefia fuc \r\n",
        "\t     where fuc.cdvinculo = v.cdvinculo \r\n",
        "\t\t   and fuc.flanulado = 'N'\r\n",
        "\t\t   and fuc.dtinicio < last_day(sysdate) + 1\r\n",
        "\t\t   and (fuc.dtfim is null or fuc.dtfim > last_day(sysdate)) \r\n",
        "\t\t   and not exists (select 1 from ecadhistcargoefetivo cef\r\n",
        "\t\t\t\t\t\t    where cef.cdvinculo = v.cdvinculo\r\n",
        "\t\t\t\t\t\t\t  and cef.flanulado = 'N'\r\n",
        "\t\t\t\t\t\t\t  and cef.dtinicio < last_day(sysdate) + 1\r\n",
        "\t\t\t\t\t\t\t  and (cef.dtfim is null or cef.dtfim > last_day(sysdate)))\r\n",
        "\t\t   and not exists (select 1 from ecadhistcargocom cco\r\n",
        "\t\t\t\t\t\t    where cco.cdvinculo = v.cdvinculo\r\n",
        "\t\t\t\t\t\t\t  and cco.flanulado = 'N'\r\n",
        "\t\t\t\t\t\t\t  and cco.dtinicio < last_day(sysdate) + 1\r\n",
        "\t\t\t\t\t\t\t  and (cco.dtfim is null or cco.dtfim > last_day(sysdate)))\r\n",
        "\t\t   and not exists (select 1 from epvdconcessaoaposentadoria apo\r\n",
        "\t\t\t\t\t\t    where apo.cdvinculo = v.cdvinculo\r\n",
        "\t\t\t\t\t\t\t  and apo.flanulado = 'N' and apo.flativa = 'S'\r\n",
        "\t\t\t\t\t\t\t  and apo.dtinicioaposentadoria < last_day(sysdate) + 1\r\n",
        "\t\t\t\t\t\t\t  and (apo.dtfimaposentadoria is null or apo.dtfimaposentadoria > last_day(sysdate)))\r\n",
        "       ) > 0 then 'APENAS FUNCAO GRATIFICADA'\r\n",
        "  when (select count(*) from ecadhistcargoefetivo cef\r\n",
        "\t\t where cef.cdvinculo = v.cdvinculo and cef.cdrelacaotrabalho = 3\r\n",
        "\t\t   and cef.flanulado = 'N'\r\n",
        "\t\t   and cef.dtinicio < last_day(sysdate) + 1\r\n",
        "\t\t   and (cef.dtfim is null or cef.dtfim > last_day(sysdate))\r\n",
        "       ) > 0 then 'ACT' \r\n",
        "  when (select count(*) from ecadhistestagio est\r\n",
        "\t     where est.cdvinculoestagio = v.cdvinculo \r\n",
        "\t\t   and est.flanulado = 'N'\r\n",
        "\t\t   and est.dtinicio < last_day(sysdate) + 1\r\n",
        "\t\t   and (est.dtfim is null or est.dtfim > last_day(sysdate))\r\n",
        "       ) > 0 then 'ESTAGIÁRIO'\r\n",
        "  when (select count(*) from epvdconcessaoaposentadoria apo\r\n",
        "\t     where apo.cdvinculo = v.cdvinculo and apo.flativa = 'S'\r\n",
        "\t\t   and apo.flanulado = 'N'\r\n",
        "\t\t   and apo.dtinicioaposentadoria < last_day(sysdate) + 1\r\n",
        "\t\t   and (apo.dtfimaposentadoria is null or apo.dtfimaposentadoria > last_day(sysdate))\r\n",
        "       ) > 0 then 'APOSENTADO'\r\n",
        "  when (select count(*) from epvdhistpensaoprevidenciaria pen\r\n",
        "\t     where pen.cdvinculo = v.cdvinculo \r\n",
        "\t\t   and pen.flanulado = 'N'\r\n",
        "\t\t   and pen.dtinicio < last_day(sysdate) + 1\r\n",
        "\t\t   and (pen.dtfim is null or pen.dtfim > last_day(sysdate))\r\n",
        "       ) > 0 then 'PENSÃO PREVIDENCIÁRIA'\r\n",
        "  when (select count(*) from epvdhistpensaonaoprev penesp\r\n",
        "\t     where penesp.cdvinculobeneficiario = v.cdvinculo \r\n",
        "\t\t   and penesp.flanulado = 'N'\r\n",
        "\t\t   and penesp.dtinicio < last_day(sysdate) + 1\r\n",
        "\t\t   and (penesp.dtfim is null or penesp.dtfim > last_day(sysdate))\r\n",
        "       ) > 0 then 'PENSÃO NÃO PREVIDENCIÁRIA' \r\n",
        "  else ' '\r\n",
        " end Relacao,\r\n",
        "\r\n",
        " case\r\n",
        "  when pp.cdhistpensaoprevidenciaria is not null then 'PENSÃO PREVIDENCIÁRIA'\r\n",
        "  when pnp.cdhistpensaonaoprev is not null then 'PENSÃO NÃO PREVIDENCIÁRIA'\r\n",
        "  when capa.flativo = 'N' then 'INATIVO-APOSENTADO'\r\n",
        "  when capa.cdregimetrabalho = 1 then 'CLT'\r\n",
        "  when capa.cdrelacaotrabalho = 4 then 'AGENTE POLÍTICO'\r\n",
        "  when cef.cdhistcargoefetivo is not null and capa.cdcargocomissionado is not null then 'EFETIVO + COMISSIONADO'  \r\n",
        "  when capa.cdrelacaotrabalho = 3  then 'ACT'\r\n",
        "  when capa.cdrelacaotrabalho = 5  then 'EFETIVO'\r\n",
        "  when capa.cdrelacaotrabalho = 10 then 'EFETIVO À DISPOSICAO'\r\n",
        "  when capa.cdrelacaotrabalho = 6  then 'COMISSIONADO'\r\n",
        "  when capa.cdrelacaotrabalho = 2  then 'ESTAGIARIO'\r\n",
        "  when cef.cdhistcargoefetivo is not null then 'EFETIVO' \r\n",
        "  else 'W-INDEFINIDO'\r\n",
        " end as Classificacao,\r\n",
        "\r\n",
        " capa.vlproventos as Proventos,\r\n",
        " capa.vldescontos as Descontos,\r\n",
        " nvl(capa.vlproventos, 0) - nvl(capa.vldescontos, 0) as Liquido,\r\n",
        " \r\n",
        " case\r\n",
        "  when capa.cdvinculo is null                then 'Sem Pagamento'\r\n",
        "  when nvl(v.cdcentrocusto, 0) = 0           then 'Centro de custo nulo no vinculo'\r\n",
        "  when nvl(capa.cdcentrocusto, 0) = 0        then 'Centro de custo nulo na capa do pagamento'\r\n",
        "  when capa.sgtipocredito is null            then 'Sigla do tipo de credito nula na capa do pagamento'\r\n",
        "  when capa.flativo is null                  then 'Nao ha indicativo de ativou ou inativo na capa do pagamento'\r\n",
        "  when cc.sgarquivocredito is null           then 'Sigla do arquvio de credito nula na capa do pagamento'\r\n",
        "  when nvl(capa.CdTipoGeracaoCredito, 0) = 0 then 'Tipo de geracao de credito nulo na capa do pagamento' \r\n",
        "  when nvl(capa.NuFaixaCredito, 0) = 0       then 'Fixa de credito nula na capa do pagamento' \r\n",
        "  else null\r\n",
        " end Observacao\r\n",
        "\r\n",
        "from ecadvinculo v\r\n",
        "inner join vcadorgao o on o.cdorgao = v.cdorgao \r\n",
        "inner join ecadpessoa p on p.cdpessoa = v.cdpessoa\r\n",
        "\r\n",
        "left join ecadhistcargoefetivo cef on cef.cdvinculo = v.cdvinculo and cef.flanulado = 'N' and cef.flprincipal = 'S'\r\n",
        "      and (cef.dtinicio < last_day(sysdate) + 1) and (cef.dtfim is null or cef.dtfim > last_day(sysdate))\r\n",
        "left join ecadhistnivelrefcef nr on nr.cdhistcargoefetivo = cef.cdhistcargoefetivo and nr.flanulado = 'N'\r\n",
        "      and (nr.dtinicio < last_day(sysdate) + 1) and (nr.dtfim is null or nr.dtfim > last_day(sysdate))\r\n",
        "left join ecadestruturacarreira es on es.cdestruturacarreira = cef.cdestruturacarreira\r\n",
        "left join ecaditemcarreira c on c.cditemcarreira = es.cditemcarreira\r\n",
        "left join ecadestruturacarreira cp on cp.cdestruturacarreira = es.cdestruturacarreirapai\r\n",
        "left join ecaditemcarreira cr on cr.cditemcarreira = cp.cditemcarreira\r\n",
        " \r\n",
        "left join ecadhistcargocom ecc on ecc.cdvinculo = v.cdvinculo and ecc.flanulado = 'N'\r\n",
        "      and (ecc.dtinicio < last_day(sysdate) + 1) and (ecc.dtfim is null or ecc.dtfim > last_day(sysdate))\r\n",
        "left join ecadcargocomissionado cco on cco.cdcargocomissionado = ecc.cdcargocomissionado\r\n",
        "left join ecadevolucaocargocomissionado d on d.cdcargocomissionado = ecc.cdcargocomissionado and d.flanulado = 'N'\r\n",
        "      and (d.dtiniciovigencia < last_day(sysdate) + 1) and (d.dtfimvigencia is null or d.dtfimvigencia > last_day(sysdate))\r\n",
        "\r\n",
        "left join ecadregimetrabalho rtr on rtr.cdregimetrabalho = v.cdregimetrabalho\r\n",
        "left join ecadrelacaotrabalho rt on rt.cdrelacaotrabalho = cef.cdrelacaotrabalho\r\n",
        "left join ecadregimeprevidenciario rp on rp.cdregimeprevidenciario = v.cdregimeprevidenciario\r\n",
        "left join ecadtiporegimeproprioprev tr on tr.cdtiporegimeproprioprev = v.cdtiporegimeproprioprev\r\n",
        "\r\n",
        "left join vcadunidadeorganizacional u on u.cdunidadeorganizacional = v.cdunidadeorganizacional\r\n",
        "      and (u.dtiniciovigencia < last_day(sysdate) + 1) and (u.dtfimvigencia is null or u.dtfimvigencia > last_day(sysdate))\r\n",
        "\t  \r\n",
        "left join ecadcentrocusto cc on cc.cdcentrocusto = v.cdcentrocusto\r\n",
        "\r\n",
        "left join epvdhistpensaoprevidenciaria pp on pp.cdvinculo = v.cdvinculo and pp.flanulado = 'N'\r\n",
        "left join epvdhistpensaonaoprev pnp on pnp.cdvinculobeneficiario = v.cdvinculo and pnp.flanulado = 'N'\r\n",
        "\r\n",
        "left join epagfolhapagamento f on f.cdorgao = v.cdorgao and f.flcalculodefinitivo = 'S'\r\n",
        "      and f.nuanoreferencia = extract(year from sysdate) and f.numesreferencia = extract(month from sysdate)\r\n",
        "      and f.cdtipofolhapagamento = '2' and f.cdtipocalculo = '1' and f.nusequencialfolha = 1\r\n",
        "left join epagcapahistrubricavinculo capa on capa.cdfolhapagamento = f.cdfolhapagamento and capa.cdvinculo = v.cdvinculo\r\n",
        "\r\n",
        "left  join eafahistmotivoafastdef mdf on mdf.cdmotivoafastdefinitivo = capa.cdmotivoafastdefinitivo and mdf.dtfimvigencia is null\r\n",
        "left  join eafahistmotivoafasttemp mtp on mtp.cdmotivoafasttemporario = capa.cdmotivoafasttemporario and mtp.dtfimvigencia is null\r\n",
        "\r\n",
        "--where v.flanulado = 'N' and (v.dtdesligamento is null or v.dtdesligamento > last_day(sysdate))\r\n",
        "--  and v.cdvinculo not in (select v.cdvinculo from ecadvinculo v\r\n",
        "--                          inner join vcadorgao o on o.cdorgao = v.cdorgao\r\n",
        "--                          where v.dtadmissao < last_day(sysdate) + 1\r\n",
        "--                            and (v.dtdesligamento > last_day(sysdate) or v.dtdesligamento is null)\r\n",
        "--                            and o.sgorgao != 'COMARHP'\r\n",
        "--                            and v.cdpessoa in (select v.cdpessoa from ecadvinculo v\r\n",
        "--                                               inner join ecadpessoa p on p.cdpessoa = v.cdpessoa\r\n",
        "--                                               inner join vcadorgao o on o.cdorgao = v.cdorgao\r\n",
        "--                                               where v.dtadmissao < last_day(sysdate) + 1\r\n",
        "--                                                 and (v.dtdesligamento > last_day(sysdate) or v.dtdesligamento is null)\r\n",
        "--                                                 and o.sgorgao = 'COMARHP'))\r\n",
        "\r\n",
        "where v.flanulado = 'N'\r\n",
        "  --and o.sgorgao = 'SEMGE'\r\n",
        "  --and v.numatricula = 23218\r\n",
        "\r\n",
        "\r\n",
        "order by 1, 2\r\n",
        "'''"
      ],
      "execution_count": null,
      "outputs": []
    },
    {
      "cell_type": "markdown",
      "metadata": {
        "id": "oiEBdLo-VShP"
      },
      "source": [
        "### Consultar dos Totais das Folhas do SIGRH"
      ]
    },
    {
      "cell_type": "code",
      "metadata": {
        "id": "Jw3SZQZENccE"
      },
      "source": [
        "# Consulta dos Totais das Folhas do SIGRH\r\n",
        "SQL = '''\r\n",
        "select \r\n",
        "     f.nuanomesreferencia     AnoMes,\r\n",
        "     f.nuanoreferencia        Ano,\r\n",
        "     f.numesreferencia        Mes,\r\n",
        "     o.cdorgaosirh            Codigo,\r\n",
        "     o.sgorgao                Orgao,\r\n",
        "     tfo.nmtipofolhapagamento Folha,\r\n",
        "     tc.nmtipocalculo         Tipo,\r\n",
        "     sum(nvl(capa.vlproventos, 0))   Proventos, -- Having 8 > 0\r\n",
        "     sum(nvl(capa.vldescontos, 0))   Descontos,\r\n",
        "     sum(nvl(capa.vlproventos, 0) - nvl(capa.vldescontos, 0)) Liquido,\r\n",
        "     count(*)                 Servidores\r\n",
        "  \r\n",
        "from epagcapahistrubricavinculo capa\r\n",
        "inner join epagfolhapagamento f on f.cdfolhapagamento = capa.cdfolhapagamento\r\n",
        "inner join epagtipofolhapagamento tfo on tfo.cdtipofolhapagamento = f.cdtipofolhapagamento\r\n",
        "inner join epagtipocalculo tc on tc.cdtipocalculo = f.cdtipocalculo\r\n",
        "inner join vcadorgao o on o.cdorgao = f.cdorgao\r\n",
        "          \r\n",
        "where f.flcalculodefinitivo = 'S'\r\n",
        "  --and f.nuanomesreferencia = 202011\r\n",
        "  --and f.nuanoreferencia in (2020, 2019, 2018)\r\n",
        "  --and f.numesreferencia in (09, 10, 11)\r\n",
        "  --and  o.sgorgao = 'SEMGE'\r\n",
        "          \r\n",
        "group by f.nuanomesreferencia, f.nuanoreferencia, f.numesreferencia, tfo.nmtipofolhapagamento, tc.nmtipocalculo, o.cdorgaosirh, o.sgorgao\r\n",
        "having  sum(nvl(capa.vlproventos, 0)) > 0\r\n",
        "order by f.nuanomesreferencia, f.nuanoreferencia, f.numesreferencia, o.cdorgaosirh, tfo.nmtipofolhapagamento, tc.nmtipocalculo\r\n",
        "'''"
      ],
      "execution_count": null,
      "outputs": []
    },
    {
      "cell_type": "markdown",
      "metadata": {
        "id": "eXhaz4qsACaF"
      },
      "source": [
        "### Consultar Capas de ContraCheque das Folhas do SIGRH"
      ]
    },
    {
      "cell_type": "code",
      "metadata": {
        "id": "meZn9joyAga2"
      },
      "source": [
        "# Consultar Capas de ContraCheque das Folhas do SIGRH\r\n",
        "SQL = '''\r\n",
        "select \r\n",
        " o.sgorgao as Orgao,\r\n",
        " f.nuanoreferencia as Ano,\r\n",
        " f.numesreferencia as Mes,\r\n",
        " tf.nmtipofolhapagamento as Folha,\r\n",
        " upper(tc.nmtipocalculo) as Calculo,\r\n",
        " lpad(f.nusequencialfolha,2,'0') as SeqFolha,\r\n",
        " case f.flcalculodefinitivo when 'N' then 'NAO' when 'S' then 'SIM' else '' end as Definitivo,\r\n",
        "\r\n",
        " lpad(v.numatricula || '-' || v.nudvmatricula,9,0) as Matricula,\r\n",
        " lpad(p.nucpf, 11, 0) as CPF,\r\n",
        " p.nmpessoa as Nome,\r\n",
        " p.dtnascimento as DataNascimento,\r\n",
        " trunc((sysdate - p.dtnascimento) / 365) as Idade,\r\n",
        " p.flsexo as Sexo,\r\n",
        " v.dtadmissao as DataAdmissao,\r\n",
        " v.dtinclusao as DataInclusao,\r\n",
        "\r\n",
        " Case capa.flativo\r\n",
        "  when 'S' then 'ATIVO'\r\n",
        "  when 'N' then 'INATIVO'\r\n",
        "  else ' '\r\n",
        " end as Situacao,\r\n",
        " upper(rtr.nmregimetrabalho) as RegimeTrabalho,\r\n",
        " upper(rt.nmrelacaotrabalho) as RelacaoTrabalho,\r\n",
        " upper(rp.nmregimeprevidenciario) RegimePrevidenciario,\r\n",
        " upper(tr.nmtiporegimeproprioprev) RegimePrevidenciarioProprio,\r\n",
        " \r\n",
        " hu.nmunidadeorganizacional as UnidadeOrganizacional,\r\n",
        " cc.nucentrocusto CodigoCentroCusto,\r\n",
        " cc.nmcentrocusto CentroCusto,\r\n",
        "\r\n",
        " cr.deitemcarreira as Carreira,\r\n",
        " c.deitemcarreira as CargoEfetivo,\r\n",
        " capa.nugruposalarial || capa.nunivelcef || capa.nureferenciacef as NivelAtual,\r\n",
        " d.decargocomissionado as CargoComissionado,\r\n",
        " capa.nureferenciacco || capa.nunivelcco as NivelComissionado,\r\n",
        "\r\n",
        " decode(mdf.demotivoafastdefinitivo, null, mtp.demotivoafasttemporario, mdf.demotivoafastdefinitivo) Afastamento,\r\n",
        "\r\n",
        " case capa.sgtipocredito\r\n",
        "  when 'FI' then 'FUNDO FINANCEIRO'\r\n",
        "  when 'PR' then 'FUNDO PREVIDENCIARIO'\r\n",
        "  when 'GE' then 'GERAL - COMISSIONADOS'\r\n",
        "  when 'GO' then 'GERAL - CLT/OUTROS'\r\n",
        "  else ' '\r\n",
        " end Fundo,\r\n",
        " cc.sgarquivocredito as SiglaArquivoCredito,\r\n",
        " case capa.cdtipogeracaocredito when 1 then 'GERAL' when 2 then 'COMISSIONADOS' else '' end as TipoGeracaoCredito,\r\n",
        " capa.nufaixacredito as FaixaCredito,\r\n",
        "\r\n",
        " case\r\n",
        "  when pp.cdhistpensaoprevidenciaria is not null then 'PENSÃO PREVIDENCIÁRIA'\r\n",
        "  when pnp.cdhistpensaonaoprev is not null then 'PENSÃO NÃO PREVIDENCIÁRIA'\r\n",
        "  when capa.flativo = 'N' then 'INATIVO-APOSENTADO'\r\n",
        "  when capa.cdregimetrabalho = 1 then 'CLT'\r\n",
        "  when capa.cdrelacaotrabalho = 4 then 'AGENTE POLÍTICO'\r\n",
        "  when cef.cdhistcargoefetivo is not null and capa.cdcargocomissionado is not null then 'EFETIVO + COMISSIONADO'  \r\n",
        "  when capa.cdrelacaotrabalho = 3  then 'ACT'\r\n",
        "  when capa.cdrelacaotrabalho = 5  then 'EFETIVO'\r\n",
        "  when capa.cdrelacaotrabalho = 10 then 'EFETIVO À DISPOSICAO'\r\n",
        "  when capa.cdrelacaotrabalho = 6  then 'COMISSIONADO'\r\n",
        "  when capa.cdrelacaotrabalho = 2  then 'ESTAGIARIO'\r\n",
        "  when cef.cdhistcargoefetivo is not null then 'EFETIVO' \r\n",
        "  else 'W-INDEFINIDO'\r\n",
        " end as Classificacao,\r\n",
        " \r\n",
        " capa.vlproventos as Proventos,\r\n",
        " capa.vldescontos as Descontos,\r\n",
        " nvl(capa.vlproventos, 0) - nvl(capa.vldescontos, 0) as Liquido,\r\n",
        "\r\n",
        " case\r\n",
        "  when nvl(v.cdcentrocusto, 0) = 0           then 'Centro de custo nulo no vinculo'\r\n",
        "  when nvl(capa.cdcentrocusto, 0) = 0        then 'Centro de custo nulo na capa do pagamento'\r\n",
        "  when capa.sgtipocredito is null            then 'Sigla do tipo de credito nula na capa do pagamento'\r\n",
        "  when capa.flativo is null                  then 'Nao ha indicativo de ativou ou inativo na capa do pagamento'\r\n",
        "  when cc.sgarquivocredito is null           then 'Sigla do arquvio de credito nula na capa do pagamento'\r\n",
        "  when nvl(capa.CdTipoGeracaoCredito, 0) = 0 then 'Tipo de geracao de credito nulo na capa do pagamento' \r\n",
        "  when nvl(capa.NuFaixaCredito, 0) = 0       then 'Fixa de credito nula na capa do pagamento' \r\n",
        "  else null\r\n",
        " end Observacao\r\n",
        "\r\n",
        "from epagcapahistrubricavinculo capa\r\n",
        "inner join epagfolhapagamento f on f.cdfolhapagamento = capa.cdfolhapagamento and f.flcalculodefinitivo = 'S'\r\n",
        "inner join epagtipofolhapagamento tf on tf.cdtipofolhapagamento = f.cdtipofolhapagamento\r\n",
        "inner join epagtipocalculo tc on tc.cdtipocalculo = f.cdtipocalculo\r\n",
        "inner join vcadorgao o on o.cdorgao = f.cdorgao\r\n",
        "\r\n",
        "inner join ecadvinculo v on v.cdvinculo = capa.cdvinculo\r\n",
        "inner join ecadpessoa p on p.cdpessoa = v.cdpessoa\r\n",
        "\r\n",
        "left join ecadregimetrabalho rtr on rtr.cdregimetrabalho = capa.cdregimetrabalho\r\n",
        "left join ecadrelacaotrabalho rt on rt.cdrelacaotrabalho = capa.cdrelacaotrabalho\r\n",
        "left join ecadregimeprevidenciario rp on rp.cdregimeprevidenciario = v.cdregimeprevidenciario\r\n",
        "left join ecadtiporegimeproprioprev tr on tr.cdtiporegimeproprioprev = v.cdtiporegimeproprioprev\r\n",
        "\r\n",
        "inner join ecadunidadeorganizacional u on u.cdunidadeorganizacional = capa.cdunidadeorganizacional\r\n",
        "inner join ecadhistunidadeorganizacional hu on hu.cdunidadeorganizacional = u.cdunidadeorganizacional\r\n",
        "       and hu.dtiniciovigencia < last_day(sysdate) + 1 and (hu.dtfimvigencia is null or hu.dtfimvigencia > last_day(sysdate))\r\n",
        "\r\n",
        "inner join ecadcentrocusto cc on cc.cdcentrocusto = capa.cdcentrocusto\r\n",
        "\r\n",
        "left join ecadhistcargoefetivo cef on cef.cdvinculo = capa.cdvinculo and cef.flanulado = 'N' and cef.flprincipal = 'S'\r\n",
        "      and (cef.dtinicio < last_day(sysdate) + 1) and (cef.dtfim is null or cef.dtfim > last_day(sysdate))\r\n",
        "left join ecadestruturacarreira es on es.cdestruturacarreira = cef.cdestruturacarreira\r\n",
        "left join ecaditemcarreira c on c.cditemcarreira = es.cditemcarreira\r\n",
        "left join ecadestruturacarreira cp on cp.cdestruturacarreira = es.cdestruturacarreirapai\r\n",
        "left join ecaditemcarreira cr on cr.cditemcarreira = cp.cditemcarreira\r\n",
        "\r\n",
        "left join ecadevolucaocargocomissionado d on d.cdcargocomissionado = capa.cdcargocomissionado  and d.flanulado = 'N'\r\n",
        "      and (d.dtiniciovigencia < last_day(sysdate) + 1) and (d.dtfimvigencia is null or d.dtfimvigencia > last_day(sysdate))\r\n",
        "left join ecadestruturacarreira es on es.cdestruturacarreira = capa.cdestruturacarreira\r\n",
        "left join ecaditemcarreira c on c.cditemcarreira = es.cditemcarreira\r\n",
        "\r\n",
        "left join epvdhistpensaoprevidenciaria pp on pp.cdvinculo = capa.cdvinculo and pp.flanulado = 'N'\r\n",
        "left join epvdhistpensaonaoprev pnp on pnp.cdvinculobeneficiario = capa.cdvinculo and pnp.flanulado = 'N'\r\n",
        "\r\n",
        "left  join eafahistmotivoafastdef mdf on mdf.cdmotivoafastdefinitivo = capa.cdmotivoafastdefinitivo and mdf.dtfimvigencia is null\r\n",
        "left  join eafahistmotivoafasttemp mtp on mtp.cdmotivoafasttemporario = capa.cdmotivoafasttemporario and mtp.dtfimvigencia is null\r\n",
        "\r\n",
        "where nvl(capa.vlproventos, 0) > 0\r\n",
        "  --and f.nuanoreferencia = 2020\r\n",
        "  --and f.numesreferencia = 12\r\n",
        "  --and f.cdtipofolhapagamento = '2'\r\n",
        "  --and o.sgorgao = 'SEMGE'\r\n",
        "  --and v.numatricula = 949469\r\n",
        "\r\n",
        "order by 3, 2, 1\r\n",
        "'''"
      ],
      "execution_count": null,
      "outputs": []
    },
    {
      "cell_type": "markdown",
      "metadata": {
        "id": "WjyQH9Vqjn8b"
      },
      "source": [
        "### Consultar dos ContraCheques do SIGRH"
      ]
    },
    {
      "cell_type": "code",
      "metadata": {
        "id": "J8c_yBxajw_0"
      },
      "source": [
        "# Consulta dos ContraCheques do SIGRH\r\n",
        "SQL = '''\r\n",
        "select \r\n",
        " o.sgorgao as Orgao,\r\n",
        " f.nuanoreferencia as Ano,\r\n",
        " f.numesreferencia as Mes,\r\n",
        " tf.nmtipofolhapagamento as Folha,\r\n",
        " case f.cdtipocalculo\r\n",
        "  when 1 then 'NORMAL'\r\n",
        "  when 5 then 'SUPLEMENTAR'\r\n",
        "  else to_char(f.cdtipocalculo)\r\n",
        " end as Calculo,\r\n",
        " lpad(f.nusequencialfolha,2,'0') as SeqFolha,\r\n",
        " case f.flcalculodefinitivo when 'N' then 'NÃO' when 'S' then 'SIM' else '' end as Definitivo,\r\n",
        "\r\n",
        " lpad(v.numatricula, 7, 0)||'-'||v.nudvmatricula as Matricula,\r\n",
        " lpad(p.nucpf, 11, 0) as CPF,\r\n",
        " p.nmpessoa as Nome,\r\n",
        "\r\n",
        " Case capa.flativo\r\n",
        "  when 'S' then 'ATIVO'\r\n",
        "  when 'N' then 'INATIVO'\r\n",
        "  else ' '\r\n",
        " end Situacao,\r\n",
        " upper(rtr.nmregimetrabalho) as RegimeTrabalho,\r\n",
        " upper(rt.nmrelacaotrabalho) as RelacaoTrabalho,\r\n",
        " upper(rp.nmregimeprevidenciario) RegimePrevidenciario,\r\n",
        " upper(tr.nmtiporegimeproprioprev) RegimePrevidenciarioProprio,\r\n",
        "\r\n",
        " d.decargocomissionado as CargoComissionado,\r\n",
        " c.deitemcarreira as CargoEfetivo,\r\n",
        "\r\n",
        " hu.nmunidadeorganizacional as UnidadeOrganizacional,\r\n",
        " cc.nucentrocusto CodigoCentroCusto,\r\n",
        " cc.nmcentrocusto CentroCusto,\r\n",
        "\r\n",
        " case capa.sgtipocredito\r\n",
        "  when 'FI' then 'FUNDO FINANCEIRO'\r\n",
        "  when 'PR' then 'FUNDO PREVIDENCIARIO'\r\n",
        "  when 'GE' then 'GERAL - COMISSIONADOS'\r\n",
        "  when 'GO' then 'GERAL - CLT/OUTROS'\r\n",
        "  else ' '\r\n",
        " end Fundo,\r\n",
        " case capa.cdtipogeracaocredito when 1 then 'GERAL' when 2 then 'COMISSIONADOS' else '' end as TipoGeracaoCredito,\r\n",
        "\r\n",
        " case\r\n",
        "  when pp.cdhistpensaoprevidenciaria is not null then 'PENSÃO PREVIDENCIÁRIA'\r\n",
        "  when pnp.cdhistpensaonaoprev is not null then 'PENSÃO NÃO PREVIDENCIÁRIA'\r\n",
        "  when capa.flativo = 'N' then 'INATIVO-APOSENTADO'\r\n",
        "  when capa.cdregimetrabalho = 1 then 'CLT'\r\n",
        "  when capa.cdrelacaotrabalho = 4 then 'AGENTE POLÍTICO'\r\n",
        "  when cef.cdhistcargoefetivo is not null and capa.cdcargocomissionado is not null then 'EFETIVO + COMISSIONADO'  \r\n",
        "  when capa.cdrelacaotrabalho = 3  then 'ACT'\r\n",
        "  when capa.cdrelacaotrabalho = 5  then 'EFETIVO'\r\n",
        "  when capa.cdrelacaotrabalho = 10 then 'EFETIVO À DISPOSICAO'\r\n",
        "  when capa.cdrelacaotrabalho = 6  then 'COMISSIONADO'\r\n",
        "  when capa.cdrelacaotrabalho = 2  then 'ESTAGIARIO'\r\n",
        "  when cef.cdhistcargoefetivo is not null then 'EFETIVO' \r\n",
        "  else 'W-INDEFINIDO'\r\n",
        " end as Classificacao,\r\n",
        "\r\n",
        " case\r\n",
        "  when rub.cdtiporubrica in (1, 2, 4, 10, 12) then '1-PROVENTO '\r\n",
        "  when rub.cdtiporubrica in (5, 6, 8)         then '5-DESCONTO'\r\n",
        "  when rub.cdtiporubrica = 9                  then '9-BASE DE CÁLCULO'\r\n",
        "  else ' '\r\n",
        " end as GrupoRubrica,\r\n",
        " case rub.cdtiporubrica\r\n",
        "  when  1 then '01-PROVENTO'\r\n",
        "  when  2 then '02-DIF.PROVENTO'\r\n",
        "  when  8 then '08-DEV.PROVENTO'\r\n",
        "  when 10 then '10-EXFINDO.PROVENTO'\r\n",
        "  when 12 then '12-EXFINDOANT.PROVENTO'\r\n",
        "  when  5 then '05-DESCONTO'\r\n",
        "  when  6 then '06-DIF.DESCONTO'\r\n",
        "  when  4 then '04-DEV.DESCONTO'\r\n",
        "  when  9 then '09-BASE'\r\n",
        "  else ' '\r\n",
        " end as TipoRubrica,\r\n",
        " lpad(rub.nurubrica,4,'0') as Rubrica,\r\n",
        " lpad(pag.nusufixorubrica,2,'0') as Sufixo,\r\n",
        " rub.derubricaagrupamento as DeRubrica,\r\n",
        " case rub.flconsignacao when 'N' then 'NÃO' when 'S' then 'SIM' else '' end as Consignacao,\r\n",
        " ori.detipoorigemrubrica as Origem, \r\n",
        " case when pag.cdexpressaoformcalc  is not null then 'SIM' \r\n",
        "      else 'NÃO'\r\n",
        " end as Tem_Formula,\r\n",
        " case when (lf.vlindice is null or lf.vlindice = 0) then 'NÃO'\r\n",
        "      else 'SIM'\r\n",
        " end as Tem_Indice,\r\n",
        " case when (lf.vllancamentofinanceiro is null or lf.vllancamentofinanceiro = 0) then 'NÃO'\r\n",
        "      else 'SIM'\r\n",
        " end as Valor_Informado,\r\n",
        " pag.nuparcela as Parcela,\r\n",
        " pag.vlindicerubrica as Indice,\r\n",
        " pag.vlpagamento as Valor\r\n",
        "\r\n",
        "from epaghistoricorubricavinculo pag\r\n",
        "inner join epagfolhapagamento f on f.cdfolhapagamento = pag.cdfolhapagamento and f.flcalculodefinitivo = 'S'\r\n",
        "left join epagcapahistrubricavinculo capa on capa.cdfolhapagamento = pag.cdfolhapagamento and capa.cdvinculo = pag.cdvinculo\r\n",
        "left join epagtipofolhapagamento tf on tf.cdtipofolhapagamento = f.cdtipofolhapagamento\r\n",
        "left join vcadorgao o on o.cdorgao = f.cdorgao\r\n",
        "\r\n",
        "left join ecadvinculo v on v.cdvinculo = pag.cdvinculo \r\n",
        "left join ecadpessoa p on p.cdpessoa = v.cdpessoa\r\n",
        "\r\n",
        "left join ecadregimetrabalho rtr on rtr.cdregimetrabalho = capa.cdregimetrabalho\r\n",
        "left join ecadrelacaotrabalho rt on rt.cdrelacaotrabalho = capa.cdrelacaotrabalho\r\n",
        "left join ecadregimeprevidenciario rp on rp.cdregimeprevidenciario = v.cdregimeprevidenciario\r\n",
        "left join ecadtiporegimeproprioprev tr on tr.cdtiporegimeproprioprev = v.cdtiporegimeproprioprev\r\n",
        "\r\n",
        "left join ecadUnidadeOrganizacional u on u.cdunidadeorganizacional = capa.cdunidadeorganizacional\r\n",
        "left join ecadHIstUnidadeOrganizacional hu on hu.cdUnidadeOrganizacional = u.cdUnidadeOrganizacional\r\n",
        "       and hu.dtInicioVigencia <= last_day(sysdate) and (hu.Dtfimvigencia is null or hu.Dtfimvigencia >= last_day(sysdate))\r\n",
        "\r\n",
        "left join ecadevolucaocargocomissionado d on d.cdcargocomissionado = capa.cdcargocomissionado\r\n",
        "      and d.flanulado = 'N' and d.dtiniciovigencia <= last_day(sysdate) and (d.dtfimvigencia is null or d.dtfimvigencia >= last_day(sysdate))\r\n",
        "left join ecadestruturacarreira es on es.cdestruturacarreira = capa.cdestruturacarreira\r\n",
        "left join ecaditemcarreira c on c.cditemcarreira = es.cditemcarreira\r\n",
        "\r\n",
        "left join ecadhistcargoefetivo cef on cef.cdvinculo = capa.cdvinculo and cef.flanulado = 'N' and cef.flprincipal = 'S'\r\n",
        "  and cef.dtinicio <= last_day(sysdate) and (cef.dtfim is null or cef.dtfim >= last_day(sysdate))\r\n",
        "left join epvdhistpensaoprevidenciaria pp on pp.cdvinculo = capa.cdvinculo and pp.flanulado = 'N'\r\n",
        "left join epvdhistpensaonaoprev pnp on pnp.cdvinculobeneficiario = capa.cdvinculo and pnp.flanulado = 'N'\r\n",
        "\r\n",
        "left join ecadcentrocusto cc on cc.cdcentrocusto = capa.cdcentrocusto\r\n",
        "\r\n",
        "left join vpagrubricaagrupamento rub on rub.cdrubricaagrupamento = pag.cdrubricaagrupamento\r\n",
        "left join epagtipoorigemrubrica ori on ori.cdtipoorigemrubrica = pag.cdtipoorigemrubrica\r\n",
        "left join epaglancamentofinanceiro lf on lf.cdlancamentofinanceiro = pag.cdlancamentofinanceiro\r\n",
        "\r\n",
        "--where f.nuanoreferencia = 2020\r\n",
        "  --and o.sgorgao = 'SEMGE'\r\n",
        "\r\n",
        "order by 2, 3, 1, 4, 5, 6, 7, 8\r\n",
        "'''"
      ],
      "execution_count": null,
      "outputs": []
    },
    {
      "cell_type": "markdown",
      "metadata": {
        "id": "8ICDISFHZwuA"
      },
      "source": [
        "### Consultar Resumo Rubrica por Ano, Mês, Folha"
      ]
    },
    {
      "cell_type": "code",
      "metadata": {
        "id": "Tgg8SfxgZ-LT"
      },
      "source": [
        "# Consulta SQL\r\n",
        "P_ANO = '2020'\r\n",
        "P_MES = '10'\r\n",
        "P_TIPO_FOLHA = 4 # 2-NORMAL  4-FERIAS  5-ESTAGIARIO  6-13 SAL\r\n",
        "\r\n",
        "SQL = f'''\r\n",
        "select Situacao,\r\n",
        "       Fundo,\r\n",
        "       Tipo,\r\n",
        "       Rubrica,\r\n",
        "       DeRubrica,\r\n",
        "       Consignacao,\r\n",
        "       Taxa,\r\n",
        "       Orgao,\r\n",
        "       CCusto,\r\n",
        "       Sum(Montante) Montante,\r\n",
        "       Sum(Valor_Retido) Valor_Retido\r\n",
        "\r\n",
        "    from\r\n",
        "\r\n",
        "    (\r\n",
        "    select\r\n",
        "        case when rub.cdtiporubrica = 5 then 'DESCONTO'\r\n",
        "             when rub.cdtiporubrica = 6 then 'DIF.DESCONTO'\r\n",
        "             when rub.cdtiporubrica = 4 then 'DEV.DESCONTO'\r\n",
        "            else 'ERRO'\r\n",
        "        end Tipo,\r\n",
        "        rub.nurubrica Rubrica,\r\n",
        "        rub.derubricaagrupamento DeRubrica,\r\n",
        "        rub.flconsignacao Consignacao,\r\n",
        "        hc.vltaxaretencao Taxa,\r\n",
        "        o.nmorgao Orgao,\r\n",
        "        cc.nucentrocusto||'-'||cc.nmcentrocusto CCusto,\r\n",
        "        case when capa.sgtipocredito = 'FI' then 'Fundo Financeiro'\r\n",
        "             when capa.sgtipocredito = 'PR' then 'Fundo Previdenciario'\r\n",
        "             when capa.sgtipocredito = 'GE' then 'Geral - Comissionados'\r\n",
        "             when capa.sgtipocredito = 'GO' then 'Geral - CLT/Outros'\r\n",
        "            else ' '\r\n",
        "        end Fundo,\r\n",
        "        Case when capa.flativo = 'S' then 'ATIVO'\r\n",
        "             when capa.flativo = 'N' then 'INATIVO'\r\n",
        "            else ' '\r\n",
        "        end Situacao,\r\n",
        "        pag.vlpagamento Montante,\r\n",
        "        trunc((hc.vltaxaretencao * pag.vlpagamento / 100), 2) Valor_Retido\r\n",
        "\r\n",
        "     from epaghistoricorubricavinculo pag\r\n",
        "\r\n",
        "        inner join epagfolhapagamento f\r\n",
        "               on  f.cdfolhapagamento = pag.cdfolhapagamento\r\n",
        "               and f.nuanoreferencia = {P_ANO}\r\n",
        "               and f.numesreferencia = {P_MES}\r\n",
        "               and f.cdtipofolhapagamento = {P_TIPO_FOLHA}\r\n",
        "               and f.cdtipocalculo = 1\r\n",
        "\r\n",
        "        inner join epagcapahistrubricavinculo capa on capa.cdvinculo = pag.cdvinculo and capa.cdfolhapagamento = pag.cdfolhapagamento\r\n",
        "        inner join ecadcentrocusto cc on cc.cdcentrocusto = capa.cdcentrocusto\r\n",
        "        inner join vcadorgao o on o.cdorgao = f.cdorgao\r\n",
        "        inner join vpagrubricaagrupamento rub on rub.cdrubricaagrupamento = pag.cdrubricaagrupamento\r\n",
        "        left  join epagconsignacao c on c.cdrubrica = rub.cdrubrica\r\n",
        "        left  join epaghistconsignacao hc on hc.cdconsignacao = c.cdconsignacao and hc.dtfimvigencia is null\r\n",
        "\r\n",
        "      where rub.cdtiporubrica in (5, 6, 4)\r\n",
        "\r\n",
        "   )\r\n",
        "\r\n",
        "      group by  Situacao, Fundo, Tipo, Rubrica, DeRubrica, Consignacao, Taxa, Orgao, CCusto\r\n",
        "      order by  Situacao, Fundo, Tipo, Rubrica, DeRubrica, Consignacao, Taxa, Orgao, CCusto\r\n",
        "'''"
      ],
      "execution_count": null,
      "outputs": []
    },
    {
      "cell_type": "markdown",
      "metadata": {
        "id": "yhxbY5zgU4nq"
      },
      "source": [
        "### Consultar de Servidores com mais de um Vinculo na Referencia"
      ]
    },
    {
      "cell_type": "code",
      "metadata": {
        "id": "VvxLbfRqiw4p"
      },
      "source": [
        "# Consulta SQL\n",
        "Referencia = '202012'\n",
        "dataInicioReferencia = f'01-{Referencia[4:6]}-{Referencia[0:4]}'\n",
        "\n",
        "SQL = f\"\"\"\n",
        "select  '{Referencia}' as MesAno,\n",
        "        o.sgorgao as OrgaoFolha,\n",
        "        p.nmpessoa as Nome,\n",
        "        lpad(v.numatricula, 7, 0)||'-'||v.nudvmatricula as Matricula,\n",
        "        lpad(p.nucpf, 11, 0) as CPF\n",
        "\n",
        "from ecadvinculo v\n",
        "inner join ecadpessoa p on p.cdpessoa = v.cdpessoa\n",
        "inner join vcadorgao o on o.cdorgao = v.cdorgao \n",
        "inner join (\n",
        "    select p.nucpf as nucpf, count(*) as vinculos\n",
        "    from ecadvinculo v\n",
        "    inner join ecadpessoa p on p.cdpessoa = v.cdpessoa\n",
        "    where v.flanulado = 'N'\n",
        "      and (v.dtadmissao < last_day('{dataInicioReferencia}') + 1)\n",
        "      and (v.dtdesligamento is null or v.dtdesligamento > last_day('{dataInicioReferencia}'))\n",
        "    group by p.nucpf\n",
        "    having count(*) > 1\n",
        ") d on d.nucpf = p.nucpf\n",
        "order by p.nucpf\n",
        "\"\"\""
      ],
      "execution_count": null,
      "outputs": []
    },
    {
      "cell_type": "markdown",
      "metadata": {
        "id": "ofiK7XDXVXM4"
      },
      "source": [
        "## Executar a Consulta"
      ]
    },
    {
      "cell_type": "code",
      "metadata": {
        "id": "Dkx9Xnsi9cCN",
        "outputId": "22212a5b-e40d-4826-f3e3-8a7bda69fde0",
        "colab": {
          "base_uri": "https://localhost:8080/",
          "height": 435
        }
      },
      "source": [
        "%%time\r\n",
        "base = pd.read_sql_query(SQL, conexaoOracle)\r\n",
        "base.head()"
      ],
      "execution_count": 10,
      "outputs": [
        {
          "output_type": "stream",
          "text": [
            "Wall time: 14 s\n"
          ],
          "name": "stdout"
        },
        {
          "output_type": "execute_result",
          "data": {
            "text/plain": [
              "   orgao  matricula          cpf                          nome  \\\n",
              "0  ARSER  0952599-8  09017894458          AMANDA TEIXEIRA MELO   \n",
              "1  ARSER  0952562-9  02734264439  ANA CAROLINA BELTRAO PEIXOTO   \n",
              "2  ARSER  0953627-2  02249252459              ANACLETO SURUAGY   \n",
              "3  ARSER  0951680-8  01239451512      ANDRE LUIZ COSTA MARTINS   \n",
              "4  ARSER  0952164-0  04437115422   ARTHUR VICTOR VERGETTI LYRA   \n",
              "\n",
              "  foneresidencial fonecomercial        celular  \\\n",
              "0            None          None  (82)981810303   \n",
              "1            None          None  (00)988898932   \n",
              "2    (82)33155042          None  (82)178828070   \n",
              "3     (0)32355273          None   (0)999007869   \n",
              "4            None          None  (82)999723023   \n",
              "\n",
              "                             email1 email2 email3 situacao regimetrabalho  \\\n",
              "0          AMANDAMELO.ATM@GMAIL.COM   None   None    ATIVO    ESTATUTÁRIO   \n",
              "1  ANACAROLINA.BELTRAO@UNEAL.EDU.BR   None   None    ATIVO    ESTATUTÁRIO   \n",
              "2      ANACLETOSURUASGY@HOTMAIL.COM   None   None    ATIVO    ESTATUTÁRIO   \n",
              "3                              None   None   None    ATIVO    ESTATUTÁRIO   \n",
              "4           LYRA.VICTOR@HOTMAIL.COM   None   None    ATIVO    ESTATUTÁRIO   \n",
              "\n",
              "  relacaotrabalho afastadosemremuneracao            relacao classificacao  \\\n",
              "0            None                    NAO  COMISSIONADO PURO  COMISSIONADO   \n",
              "1            None                    NAO  COMISSIONADO PURO  COMISSIONADO   \n",
              "2            None                    NAO  COMISSIONADO PURO  COMISSIONADO   \n",
              "3            None                    NAO  COMISSIONADO PURO  COMISSIONADO   \n",
              "4            None                    NAO  COMISSIONADO PURO  COMISSIONADO   \n",
              "\n",
              "  observacao  \n",
              "0       None  \n",
              "1       None  \n",
              "2       None  \n",
              "3       None  \n",
              "4       None  "
            ],
            "text/html": [
              "<div>\n",
              "<style scoped>\n",
              "    .dataframe tbody tr th:only-of-type {\n",
              "        vertical-align: middle;\n",
              "    }\n",
              "\n",
              "    .dataframe tbody tr th {\n",
              "        vertical-align: top;\n",
              "    }\n",
              "\n",
              "    .dataframe thead th {\n",
              "        text-align: right;\n",
              "    }\n",
              "</style>\n",
              "<table border=\"1\" class=\"dataframe\">\n",
              "  <thead>\n",
              "    <tr style=\"text-align: right;\">\n",
              "      <th></th>\n",
              "      <th>orgao</th>\n",
              "      <th>matricula</th>\n",
              "      <th>cpf</th>\n",
              "      <th>nome</th>\n",
              "      <th>foneresidencial</th>\n",
              "      <th>fonecomercial</th>\n",
              "      <th>celular</th>\n",
              "      <th>email1</th>\n",
              "      <th>email2</th>\n",
              "      <th>email3</th>\n",
              "      <th>situacao</th>\n",
              "      <th>regimetrabalho</th>\n",
              "      <th>relacaotrabalho</th>\n",
              "      <th>afastadosemremuneracao</th>\n",
              "      <th>relacao</th>\n",
              "      <th>classificacao</th>\n",
              "      <th>observacao</th>\n",
              "    </tr>\n",
              "  </thead>\n",
              "  <tbody>\n",
              "    <tr>\n",
              "      <th>0</th>\n",
              "      <td>ARSER</td>\n",
              "      <td>0952599-8</td>\n",
              "      <td>09017894458</td>\n",
              "      <td>AMANDA TEIXEIRA MELO</td>\n",
              "      <td>None</td>\n",
              "      <td>None</td>\n",
              "      <td>(82)981810303</td>\n",
              "      <td>AMANDAMELO.ATM@GMAIL.COM</td>\n",
              "      <td>None</td>\n",
              "      <td>None</td>\n",
              "      <td>ATIVO</td>\n",
              "      <td>ESTATUTÁRIO</td>\n",
              "      <td>None</td>\n",
              "      <td>NAO</td>\n",
              "      <td>COMISSIONADO PURO</td>\n",
              "      <td>COMISSIONADO</td>\n",
              "      <td>None</td>\n",
              "    </tr>\n",
              "    <tr>\n",
              "      <th>1</th>\n",
              "      <td>ARSER</td>\n",
              "      <td>0952562-9</td>\n",
              "      <td>02734264439</td>\n",
              "      <td>ANA CAROLINA BELTRAO PEIXOTO</td>\n",
              "      <td>None</td>\n",
              "      <td>None</td>\n",
              "      <td>(00)988898932</td>\n",
              "      <td>ANACAROLINA.BELTRAO@UNEAL.EDU.BR</td>\n",
              "      <td>None</td>\n",
              "      <td>None</td>\n",
              "      <td>ATIVO</td>\n",
              "      <td>ESTATUTÁRIO</td>\n",
              "      <td>None</td>\n",
              "      <td>NAO</td>\n",
              "      <td>COMISSIONADO PURO</td>\n",
              "      <td>COMISSIONADO</td>\n",
              "      <td>None</td>\n",
              "    </tr>\n",
              "    <tr>\n",
              "      <th>2</th>\n",
              "      <td>ARSER</td>\n",
              "      <td>0953627-2</td>\n",
              "      <td>02249252459</td>\n",
              "      <td>ANACLETO SURUAGY</td>\n",
              "      <td>(82)33155042</td>\n",
              "      <td>None</td>\n",
              "      <td>(82)178828070</td>\n",
              "      <td>ANACLETOSURUASGY@HOTMAIL.COM</td>\n",
              "      <td>None</td>\n",
              "      <td>None</td>\n",
              "      <td>ATIVO</td>\n",
              "      <td>ESTATUTÁRIO</td>\n",
              "      <td>None</td>\n",
              "      <td>NAO</td>\n",
              "      <td>COMISSIONADO PURO</td>\n",
              "      <td>COMISSIONADO</td>\n",
              "      <td>None</td>\n",
              "    </tr>\n",
              "    <tr>\n",
              "      <th>3</th>\n",
              "      <td>ARSER</td>\n",
              "      <td>0951680-8</td>\n",
              "      <td>01239451512</td>\n",
              "      <td>ANDRE LUIZ COSTA MARTINS</td>\n",
              "      <td>(0)32355273</td>\n",
              "      <td>None</td>\n",
              "      <td>(0)999007869</td>\n",
              "      <td>None</td>\n",
              "      <td>None</td>\n",
              "      <td>None</td>\n",
              "      <td>ATIVO</td>\n",
              "      <td>ESTATUTÁRIO</td>\n",
              "      <td>None</td>\n",
              "      <td>NAO</td>\n",
              "      <td>COMISSIONADO PURO</td>\n",
              "      <td>COMISSIONADO</td>\n",
              "      <td>None</td>\n",
              "    </tr>\n",
              "    <tr>\n",
              "      <th>4</th>\n",
              "      <td>ARSER</td>\n",
              "      <td>0952164-0</td>\n",
              "      <td>04437115422</td>\n",
              "      <td>ARTHUR VICTOR VERGETTI LYRA</td>\n",
              "      <td>None</td>\n",
              "      <td>None</td>\n",
              "      <td>(82)999723023</td>\n",
              "      <td>LYRA.VICTOR@HOTMAIL.COM</td>\n",
              "      <td>None</td>\n",
              "      <td>None</td>\n",
              "      <td>ATIVO</td>\n",
              "      <td>ESTATUTÁRIO</td>\n",
              "      <td>None</td>\n",
              "      <td>NAO</td>\n",
              "      <td>COMISSIONADO PURO</td>\n",
              "      <td>COMISSIONADO</td>\n",
              "      <td>None</td>\n",
              "    </tr>\n",
              "  </tbody>\n",
              "</table>\n",
              "</div>"
            ]
          },
          "metadata": {
            "tags": []
          },
          "execution_count": 10
        }
      ]
    },
    {
      "cell_type": "code",
      "metadata": {
        "id": "BsATrHWUmYL6"
      },
      "source": [
        "camposSelecionados = ['orgao', 'ano', 'mes', 'folha', 'calculo', 'matricula']\r\n",
        "#print(base[camposSelecionados].iloc[0].values)\r\n",
        "print(base[camposSelecionados].values[0])"
      ],
      "execution_count": null,
      "outputs": []
    },
    {
      "cell_type": "markdown",
      "metadata": {
        "id": "0BL6oik5oS6B"
      },
      "source": [
        "## Salva os Dados Selecionados no Arquivo CSV"
      ]
    },
    {
      "cell_type": "code",
      "metadata": {
        "id": "nD5hvI0-oUyN"
      },
      "source": [
        "%%timeit\n",
        "nomeArquivo = 'sigrh_schema'\n",
        "base.to_csv(f'{nomeArquivo}.csv', index=False, encoding='utf-8', sep=';', decimal=',', quoting=csv.QUOTE_NONNUMERIC)"
      ],
      "execution_count": null,
      "outputs": []
    },
    {
      "cell_type": "code",
      "metadata": {
        "id": "ghGHqMr1vcBz"
      },
      "source": [
        "%%timeit\r\n",
        "nomeArquivo = 'sigrh_schema'\r\n",
        "compression_opts = dict(method='zip', archive_name=f'{nomeArquivo}.csv')\r\n",
        "base.to_csv(f'{nomeArquivo}.zip', index=False, encoding='utf-8', sep=';', decimal=',', quoting=csv.QUOTE_NONNUMERIC, compression=compression_opts)"
      ],
      "execution_count": null,
      "outputs": []
    },
    {
      "cell_type": "markdown",
      "metadata": {
        "id": "Y7F7c3qfxtaw"
      },
      "source": [
        "## Salva os Dados Selecionados em HTML"
      ]
    },
    {
      "cell_type": "markdown",
      "metadata": {
        "id": "IrA6vX3Txy9y"
      },
      "source": [
        "### Templante CSS"
      ]
    },
    {
      "cell_type": "code",
      "metadata": {
        "id": "v4I_9yJvx6b-"
      },
      "source": [
        "templante_style_corpo = '''\r\n",
        "    * {\r\n",
        "\t    box-sizing: border-box;\r\n",
        "      margin: 0;\r\n",
        "      padding: 0;\r\n",
        "    }\r\n",
        "\r\n",
        "    body {\r\n",
        "      display: grid;\r\n",
        "    }\r\n",
        "\r\n",
        "    main {\r\n",
        "\t    width: 100%;\r\n",
        "      display: grid;\r\n",
        "      grid-template-rows: 100px 2fr 80px;\r\n",
        "    }\r\n",
        "\r\n",
        "    main>header {\r\n",
        "\t    grid-row: 1/2;\r\n",
        "      display: flex;\r\n",
        "      flex-direction: column;\r\n",
        "      flex-wrap: wrap;\r\n",
        "      justify-content: center;\r\n",
        "      align-items: center;\r\n",
        "    }\r\n",
        "\r\n",
        "    main>header>* {\r\n",
        "      height: 100%;\r\n",
        "      display: flex;\r\n",
        "      justify-content: center;\r\n",
        "      align-items: center;\r\n",
        "    }\r\n",
        "\r\n",
        "    main>footer {\r\n",
        "\t    grid-row: 3/4;\r\n",
        "      display: flex;\r\n",
        "      flex-direction: column;\r\n",
        "      flex-wrap: wrap;\r\n",
        "      justify-content: center;\r\n",
        "      align-items: center;\r\n",
        "    }\r\n",
        "\r\n",
        "    main>footer>* {\r\n",
        "      height: 100%;\r\n",
        "      display: flex;\r\n",
        "      justify-content: center;\r\n",
        "      align-items: center;\r\n",
        "    }\r\n",
        "\r\n",
        "    main>container {\r\n",
        "\t    grid-row: 2/3;\r\n",
        "    }\r\n",
        "\r\n",
        "    main>container>* {\r\n",
        "      padding: 5px;\r\n",
        "    }\r\n",
        "\r\n",
        "    @media print {\r\n",
        "      @page {\r\n",
        "        size: auto;\r\n",
        "        margin: 5mm 5mm 0 5mm;\r\n",
        "      }\r\n",
        "    }\r\n",
        "'''"
      ],
      "execution_count": 13,
      "outputs": []
    },
    {
      "cell_type": "code",
      "metadata": {
        "id": "Fp0LfT-vx_RY"
      },
      "source": [
        "templante_style_tabela = '''\r\n",
        "    /* includes alternating gray and white with on-hover color */\r\n",
        "\r\n",
        "    .DataFrame {\r\n",
        "      font-size: 11pt;\r\n",
        "      font-family: Arial;\r\n",
        "      border-collapse: collapse;\r\n",
        "      border: 1px solid silver;\r\n",
        "      width: 100%;\r\n",
        "    }\r\n",
        "\r\n",
        "    .DataFrame thead {\r\n",
        "      background: #B0B0B0;\r\n",
        "    }\r\n",
        "\r\n",
        "    .DataFrame td, th {\r\n",
        "      padding: 5px;\r\n",
        "    }\r\n",
        "\r\n",
        "    .DataFrame tr:nth-child(even) {\r\n",
        "      background: #E0E0E0;\r\n",
        "    }\r\n",
        "\r\n",
        "    .DataFrame tr:hover {\r\n",
        "      background: silver;\r\n",
        "      cursor: pointer;\r\n",
        "    }\r\n",
        "'''"
      ],
      "execution_count": 14,
      "outputs": []
    },
    {
      "cell_type": "code",
      "metadata": {
        "id": "qfDqnXF_yGWs"
      },
      "source": [
        "templante_style = f'''\r\n",
        "<style>\r\n",
        "  {templante_style_corpo}\r\n",
        "  {templante_style_tabela}\r\n",
        "</style>\r\n",
        "'''"
      ],
      "execution_count": 15,
      "outputs": []
    },
    {
      "cell_type": "markdown",
      "metadata": {
        "id": "Q333LjfwyEOE"
      },
      "source": [
        "### Templante Cabeçalho e Rodape"
      ]
    },
    {
      "cell_type": "code",
      "metadata": {
        "id": "dotLSI2wyLZf"
      },
      "source": [
        "templante_cabecalho = '''\r\n",
        "<div>\r\n",
        "  <img src=\"Imagens/MaceioLogoGrande.png\" alt=\"Logo Prefeitura Maceio\">\r\n",
        "</div>\r\n",
        "<div>\r\n",
        "  <h2>\r\n",
        "  <center>PREFEITURA DE MACEIÓ</center>\r\n",
        "  <br>\r\n",
        "  <center>SECRETARIA MUNICIPAL DE GESTAO</center>\r\n",
        "  </h2>\r\n",
        "</div>\r\n",
        "<div>\r\n",
        "  Data: 27/12/2020\r\n",
        "</div>\r\n",
        "'''"
      ],
      "execution_count": 21,
      "outputs": []
    },
    {
      "cell_type": "code",
      "metadata": {
        "id": "Zn_8rFzOyNvn"
      },
      "source": [
        "templante_rodape = '''\r\n",
        "<div>\r\n",
        "  <h3>\r\n",
        "    SEMGE / AL – Sistema Informatizado de Gestão de Recursos Humanos\r\n",
        "  <br>\r\n",
        "  Módulo de PAGAMENTOS\r\n",
        "  </h3>\r\n",
        "</div>\r\n",
        "<div>\r\n",
        "  Página: 1 de 1\r\n",
        "</div>\r\n",
        "'''"
      ],
      "execution_count": 17,
      "outputs": []
    },
    {
      "cell_type": "markdown",
      "metadata": {
        "id": "g73j_nZ1yQ4L"
      },
      "source": [
        "### Templante Corpo"
      ]
    },
    {
      "cell_type": "code",
      "metadata": {
        "id": "6v0bSdmTyPx7"
      },
      "source": [
        "templante = '''\r\n",
        "<html>\r\n",
        "  <head>\r\n",
        "    <title>PREFEITURA DE MACEIÓ - SECRETARIA MUNICIPAL DE GESTAO</title>\r\n",
        "    {style}\r\n",
        "  </head>\r\n",
        "  <body>\r\n",
        "    <main>\r\n",
        "      <header>\r\n",
        "        {cabecalho}\r\n",
        "      </header>\r\n",
        "      <container>\r\n",
        "        <div class=\"Conteudo\" id=\"Conteudo\">\r\n",
        "          {tabela}\r\n",
        "        </div>\r\n",
        "      </container>\r\n",
        "      <footer>\r\n",
        "        {rodape}\r\n",
        "      </footer>\r\n",
        "    </main>\r\n",
        "  </body>\r\n",
        "</html>.\r\n",
        "'''"
      ],
      "execution_count": 18,
      "outputs": []
    },
    {
      "cell_type": "markdown",
      "metadata": {
        "id": "GsnS4CBcyYMk"
      },
      "source": [
        "### Gerar o HTML"
      ]
    },
    {
      "cell_type": "code",
      "metadata": {
        "id": "RpFuiNr1yXtO",
        "outputId": "a94bc8c7-92f8-43db-ca70-f45528fb32df",
        "colab": {
          "base_uri": "https://localhost:8080/"
        }
      },
      "source": [
        "%%time\r\n",
        "pd.set_option('colheader_justify', 'center')\r\n",
        "with open('comissionado.html', 'w') as f:\r\n",
        "    f.write(templante.format(tabela=base.to_html(classes='DataFrame'),\r\n",
        "                            cabecalho=templante_cabecalho,\r\n",
        "                            rodape=templante_rodape,\r\n",
        "                            style=templante_style))"
      ],
      "execution_count": 22,
      "outputs": [
        {
          "output_type": "stream",
          "text": [
            "Wall time: 566 ms\n"
          ],
          "name": "stdout"
        }
      ]
    },
    {
      "cell_type": "markdown",
      "metadata": {
        "id": "MRqVykRGWcyd"
      },
      "source": [
        "## Salva os Dados Selecionados no Excel"
      ]
    },
    {
      "cell_type": "code",
      "metadata": {
        "id": "UEmwyCp4WfzO",
        "outputId": "84e0eac6-8a4b-400d-d64e-b7fc3f63c571",
        "colab": {
          "base_uri": "https://localhost:8080/"
        }
      },
      "source": [
        "%%time\r\n",
        "dataReferencia = date.today().strftime('%Y%m%d')\r\n",
        "nomePlanilha = 'COMISSIONADO'\r\n",
        "nomeArquivo = f'SIGRH-MCZ - {nomePlanilha} - {dataReferencia}.xlsx'\r\n",
        "\r\n",
        "planilha = pd.ExcelWriter(nomeArquivo, engine='xlsxwriter', datetime_format='dd/mm/yy', date_format='dd/mm/yy')\r\n",
        "base.to_excel(planilha, sheet_name=nomePlanilha, startrow=0, index=False)\r\n",
        "\r\n",
        "# Formata Tabela\r\n",
        "pagina = planilha.sheets[nomePlanilha]\r\n",
        "linhas, colunas = base.shape\r\n",
        "column_settings = [{'header': column} for column in base.columns.values.tolist()]\r\n",
        "tabelaOpcoes = {\r\n",
        "    'name': nomePlanilha,\r\n",
        "    'style': 'Table Style Medium 11',\r\n",
        "    'autofilter': False,\r\n",
        "    'columns': column_settings\r\n",
        "}\r\n",
        "pagina.add_table(0, 0, linhas, colunas - 1, tabelaOpcoes)\r\n",
        "\r\n",
        "# Formata Impressão\r\n",
        "pagina.hide_gridlines(2)\r\n",
        "pagina.freeze_panes(1, 0)\r\n",
        "pagina.print_area(0,0,linhas, colunas)\r\n",
        "pagina.repeat_rows(0,0)\r\n",
        "pagina.fit_to_pages(1,0)\r\n",
        "pagina.set_paper(9) # A4\r\n",
        "pagina.set_portrait() # set_landscape or set_portrait()\r\n",
        "#pagina.center_horizontally()\r\n",
        "#pagina.center_vertically()\r\n",
        "pagina.set_margins(left=0.7, right=0.7, top=1.14, bottom=0.75)\r\n",
        "\r\n",
        "# Formata Cabecalho e Rodape\r\n",
        "pagina.set_header('&R' + 'Data: &D')\r\n",
        "pagina.set_footer('&R' +  'Página: &P of &N')\r\n",
        "\r\n",
        "# Grava a Planilha\r\n",
        "planilha.save()"
      ],
      "execution_count": 11,
      "outputs": [
        {
          "output_type": "stream",
          "text": [
            "Wall time: 1.11 s\n"
          ],
          "name": "stdout"
        }
      ]
    },
    {
      "cell_type": "code",
      "metadata": {
        "id": "OJhygfxaY-t0"
      },
      "source": [
        "pd.read_excel(nomeArquivo, sheet_name=nomePlanilha, engine='openpyxl').head()"
      ],
      "execution_count": null,
      "outputs": []
    },
    {
      "cell_type": "markdown",
      "metadata": {
        "id": "FEGXX8lomM0F"
      },
      "source": [
        "## Salva os Dados Selecionados no Google Sheet"
      ]
    },
    {
      "cell_type": "code",
      "metadata": {
        "id": "O2WbQS3imP-l"
      },
      "source": [
        "# Carregar as Bibliotecas e Prover a Autenticação no Google Drive\r\n",
        "from google.colab import auth\r\n",
        "auth.authenticate_user()\r\n",
        "\r\n",
        "import gspread\r\n",
        "from oauth2client.client import GoogleCredentials\r\n",
        "\r\n",
        "gc = gspread.authorize(GoogleCredentials.get_application_default())"
      ],
      "execution_count": null,
      "outputs": []
    },
    {
      "cell_type": "code",
      "metadata": {
        "id": "bQQ2BRHrmW2I"
      },
      "source": [
        "%%timeit\r\n",
        "dataReferencia = date.today().strftime('%Y%m%d')\r\n",
        "nomePlanilha = 'BASE'\r\n",
        "nomeArquivo = f'SIGRH-MCZ - {nomePlanilha} - {dataReferencia}'\r\n",
        "\r\n",
        "base = pd.read_sql(SQL, conexaoOracle)\r\n",
        "\r\n",
        "# Criar a Planilha\r\n",
        "planilha = gc.create(nomeArquivo)\r\n",
        "planilha = gc.open(nomeArquivo)\r\n",
        "pagina = municipios_arquivo.add_worksheet(nomePlanilha,rows=len(base),cols=len(base.columns))\r\n",
        "pagina.update([base.columns.values.tolist()] + base.values.tolist())"
      ],
      "execution_count": null,
      "outputs": []
    },
    {
      "cell_type": "markdown",
      "metadata": {
        "id": "EPq_9XlyKoPy"
      },
      "source": [
        "## Salva os Dados Selecionados no SQLite"
      ]
    },
    {
      "cell_type": "code",
      "metadata": {
        "id": "tkW6PZEwKtEa"
      },
      "source": [
        "%%timeit\r\n",
        "nomeTabela = 'schema'\r\n",
        "base.to_sql(name=nomeTabela, con=conexaoSQLite, if_exists=\"replace\", index=False)"
      ],
      "execution_count": null,
      "outputs": []
    },
    {
      "cell_type": "code",
      "metadata": {
        "id": "TS2mAc8IK6nO",
        "colab": {
          "base_uri": "https://localhost:8080/",
          "height": 197
        },
        "outputId": "6cf62a3e-e001-4e4e-a64b-6a6c03e02c96"
      },
      "source": [
        "%%timeit\r\n",
        "pd.read_sql(f'select * from {nomeTabela}', conexaoSQLite).head()"
      ],
      "execution_count": null,
      "outputs": [
        {
          "output_type": "execute_result",
          "data": {
            "text/plain": [
              "  subsystem                   tablename  columnname\n",
              "0      mlve             mlveventoversao  xmlesquema\n",
              "1      acer         acerto_pen_alimento    codabate\n",
              "2      acer         acerto_pen_alimento   codpensao\n",
              "3      acer         acerto_pen_alimento   matricula\n",
              "4      acer  acerto_pen_alimento_resumo  temredutor"
            ],
            "text/html": [
              "<div>\n",
              "<style scoped>\n",
              "    .dataframe tbody tr th:only-of-type {\n",
              "        vertical-align: middle;\n",
              "    }\n",
              "\n",
              "    .dataframe tbody tr th {\n",
              "        vertical-align: top;\n",
              "    }\n",
              "\n",
              "    .dataframe thead th {\n",
              "        text-align: right;\n",
              "    }\n",
              "</style>\n",
              "<table border=\"1\" class=\"dataframe\">\n",
              "  <thead>\n",
              "    <tr style=\"text-align: right;\">\n",
              "      <th></th>\n",
              "      <th>subsystem</th>\n",
              "      <th>tablename</th>\n",
              "      <th>columnname</th>\n",
              "    </tr>\n",
              "  </thead>\n",
              "  <tbody>\n",
              "    <tr>\n",
              "      <th>0</th>\n",
              "      <td>mlve</td>\n",
              "      <td>mlveventoversao</td>\n",
              "      <td>xmlesquema</td>\n",
              "    </tr>\n",
              "    <tr>\n",
              "      <th>1</th>\n",
              "      <td>acer</td>\n",
              "      <td>acerto_pen_alimento</td>\n",
              "      <td>codabate</td>\n",
              "    </tr>\n",
              "    <tr>\n",
              "      <th>2</th>\n",
              "      <td>acer</td>\n",
              "      <td>acerto_pen_alimento</td>\n",
              "      <td>codpensao</td>\n",
              "    </tr>\n",
              "    <tr>\n",
              "      <th>3</th>\n",
              "      <td>acer</td>\n",
              "      <td>acerto_pen_alimento</td>\n",
              "      <td>matricula</td>\n",
              "    </tr>\n",
              "    <tr>\n",
              "      <th>4</th>\n",
              "      <td>acer</td>\n",
              "      <td>acerto_pen_alimento_resumo</td>\n",
              "      <td>temredutor</td>\n",
              "    </tr>\n",
              "  </tbody>\n",
              "</table>\n",
              "</div>"
            ]
          },
          "metadata": {
            "tags": []
          },
          "execution_count": 15
        }
      ]
    },
    {
      "cell_type": "markdown",
      "metadata": {
        "id": "oCarjGEqIQ_V"
      },
      "source": [
        "## Salva os Dados Selecionados em partes no SQLite"
      ]
    },
    {
      "cell_type": "code",
      "metadata": {
        "id": "NqSW_1y1_SoE",
        "colab": {
          "base_uri": "https://localhost:8080/"
        },
        "outputId": "288c286a-ea10-42ac-b60c-5a5f568ed10c"
      },
      "source": [
        "%%time\r\n",
        "camposSelecionados = ['orgao', 'matricula']\r\n",
        "tamanhoPartes=10**5\r\n",
        "nomeTabela = 'funcional'\r\n",
        "for partesSQL in pd.read_sql_query(SQL, conexaoOracle, chunksize=tamanhoPartes):\r\n",
        "    partesSQL.to_sql(name=nomeTabela, con=conexaoSQLite, if_exists=\"append\", index=False)\r\n",
        "    print(partesSQL[camposSelecionados].values[0])\r\n",
        "    #print(partesSQL.iloc[0, 1])"
      ],
      "execution_count": null,
      "outputs": [
        {
          "output_type": "stream",
          "text": [
            "['ARSER' '0920958-1']\n",
            "Wall time: 2min 12s\n"
          ],
          "name": "stdout"
        }
      ]
    },
    {
      "cell_type": "code",
      "metadata": {
        "id": "Al4Rd9bhNAqR",
        "colab": {
          "base_uri": "https://localhost:8080/",
          "height": 95
        },
        "outputId": "bca877cc-bc25-47e9-8f6d-d1e48c7be282"
      },
      "source": [
        "%%time\r\n",
        "pd.read_sql(f'select count(*) from {nomeTabela}', conexaoSQLite)"
      ],
      "execution_count": null,
      "outputs": [
        {
          "output_type": "stream",
          "text": [
            "Wall time: 159 ms\n"
          ],
          "name": "stdout"
        },
        {
          "output_type": "execute_result",
          "data": {
            "text/plain": [
              "   count(*)\n",
              "0     44902"
            ],
            "text/html": [
              "<div>\n",
              "<style scoped>\n",
              "    .dataframe tbody tr th:only-of-type {\n",
              "        vertical-align: middle;\n",
              "    }\n",
              "\n",
              "    .dataframe tbody tr th {\n",
              "        vertical-align: top;\n",
              "    }\n",
              "\n",
              "    .dataframe thead th {\n",
              "        text-align: right;\n",
              "    }\n",
              "</style>\n",
              "<table border=\"1\" class=\"dataframe\">\n",
              "  <thead>\n",
              "    <tr style=\"text-align: right;\">\n",
              "      <th></th>\n",
              "      <th>count(*)</th>\n",
              "    </tr>\n",
              "  </thead>\n",
              "  <tbody>\n",
              "    <tr>\n",
              "      <th>0</th>\n",
              "      <td>44902</td>\n",
              "    </tr>\n",
              "  </tbody>\n",
              "</table>\n",
              "</div>"
            ]
          },
          "metadata": {
            "tags": []
          },
          "execution_count": 10
        }
      ]
    }
  ]
}