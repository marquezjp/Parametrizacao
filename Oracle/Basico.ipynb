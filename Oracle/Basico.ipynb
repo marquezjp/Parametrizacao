{
  "nbformat": 4,
  "nbformat_minor": 0,
  "metadata": {
    "colab": {
      "name": "Basico.ipynb",
      "provenance": [],
      "collapsed_sections": [],
      "authorship_tag": "ABX9TyOsuplKR6CqonBdZBUi6wGf",
      "include_colab_link": true
    },
    "kernelspec": {
      "name": "python3",
      "display_name": "Python 3"
    }
  },
  "cells": [
    {
      "cell_type": "markdown",
      "metadata": {
        "id": "view-in-github",
        "colab_type": "text"
      },
      "source": [
        "<a href=\"https://colab.research.google.com/github/marquezjp/SQLToPandas/blob/main/Oracle/Basico.ipynb\" target=\"_parent\"><img src=\"https://colab.research.google.com/assets/colab-badge.svg\" alt=\"Open In Colab\"/></a>"
      ]
    },
    {
      "cell_type": "markdown",
      "metadata": {
        "id": "a2-PmOPuhX2d"
      },
      "source": [
        "# Forma simplificada de Executar uma Consulta no Banco Oracle"
      ]
    },
    {
      "cell_type": "code",
      "metadata": {
        "id": "s8HWxxQudsRf"
      },
      "source": [
        "# Carrega a Biblioteca do Oracle, YAML e Pandas\n",
        "import yaml\n",
        "import cx_Oracle\n",
        "#lib_dir = r\"C:\\oracle\\instantclient\"\n",
        "#cx_Oracle.init_oracle_client(lib_dir=r\"C:\\oracle\\instantclient\")"
      ],
      "execution_count": null,
      "outputs": []
    },
    {
      "cell_type": "code",
      "metadata": {
        "id": "OASlnpZvbNSG"
      },
      "source": [
        "# Carregar as Credenciais de Conexão com o Banco de Dados Padrão\r\n",
        "padraoConfiguracao = '''\r\n",
        "Padrao:\r\n",
        "  dialect: 'oracle'\r\n",
        "  sql_driver: 'cx_oracle'\r\n",
        "  dsn_tns:\r\n",
        "    host: 192.168.10.247\r\n",
        "    service: sigrhprod.financas.pref\r\n",
        "    port: 1521\r\n",
        "  user: sigrhprd\r\n",
        "  password: prdM4c3i0\r\n",
        "'''\r\n",
        "oracleConfig = yaml.load(padraoConfiguracao, Loader=yaml.FullLoader)\r\n",
        "oracleConfig"
      ],
      "execution_count": null,
      "outputs": []
    },
    {
      "cell_type": "code",
      "metadata": {
        "id": "IQr3M7dVhib3"
      },
      "source": [
        "# Carregar as Credenciais de Conexão com o Banco de Dados Oracle\n",
        "nomeArquivoConfiguracao = 'Oracle/databaseConfig'\n",
        "ambienteDatabase = 'SIGRH-PRD'\n",
        "with open(nomeArquivoConfiguracao, \"r\") as ymlFile:\n",
        "    dbConfig = yaml.safe_load(ymlFile)\n",
        "    oracleConfig = dbConfig[ambienteDatabase]\n",
        "    oracleConfig"
      ],
      "execution_count": null,
      "outputs": []
    },
    {
      "cell_type": "code",
      "metadata": {
        "id": "yZJmaPsAhrbQ"
      },
      "source": [
        "# Defini as string de conexão do Oracle\n",
        "# Configura Cliente Oracle, arquivo tnsnames.ora\n",
        "dsn_tnsConfig = oracleConfig[\"dsn_tns\"]\n",
        "dsn_tns = cx_Oracle.makedsn(dsn_tnsConfig[\"host\"],\n",
        "                            dsn_tnsConfig[\"port\"],\n",
        "                            service_name=dsn_tnsConfig[\"service\"])"
      ],
      "execution_count": null,
      "outputs": []
    },
    {
      "cell_type": "code",
      "metadata": {
        "id": "LH5wG8Ekh1jJ"
      },
      "source": [
        "# Cria a Conexão\n",
        "conexao = cx_Oracle.connect(user=oracleConfig[\"user\"],\n",
        "                            password=oracleConfig[\"password\"],\n",
        "                            dsn=dsn_tns)"
      ],
      "execution_count": null,
      "outputs": []
    },
    {
      "cell_type": "code",
      "metadata": {
        "id": "K3Lc4htjh7Ad"
      },
      "source": [
        "# Defini a Consulta SQL\n",
        "# Usar aspas tripulas se desejar utilizar multiplas linas\n",
        "SQL = \"\"\"\n",
        "select lower(substr(table_name,1,4)) as SubSystem, lower(table_name) as TableName, lower(column_name) as ColumnName\n",
        "from user_tab_columns\n",
        "\"\"\""
      ],
      "execution_count": null,
      "outputs": []
    },
    {
      "cell_type": "code",
      "metadata": {
        "id": "Jz8BEyqBh9XY"
      },
      "source": [
        "# Executa Consulta\n",
        "with conexao.cursor() as cursor:\n",
        "    for linha in cursor.execute(SQL):\n",
        "        print(linha[0])"
      ],
      "execution_count": null,
      "outputs": []
    }
  ]
}